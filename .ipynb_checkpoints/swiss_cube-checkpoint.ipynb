{
 "cells": [
  {
   "cell_type": "code",
   "execution_count": 1,
   "id": "9a5edb87-e5a8-4020-8d98-6296e27b63ed",
   "metadata": {
    "tags": []
   },
   "outputs": [
    {
     "name": "stdout",
     "output_type": "stream",
     "text": [
      "Requirement already satisfied: pip in c:\\users\\esben\\anaconda3\\lib\\site-packages (23.1.2)\n",
      "Collecting pip\n",
      "  Using cached pip-23.2-py3-none-any.whl (2.1 MB)\n",
      "Installing collected packages: pip\n",
      "  Attempting uninstall: pip\n",
      "    Found existing installation: pip 23.1.2\n",
      "    Uninstalling pip-23.1.2:\n",
      "      Successfully uninstalled pip-23.1.2\n",
      "Successfully installed pip-23.2\n",
      "Requirement already satisfied: pyodbc in c:\\users\\esben\\anaconda3\\lib\\site-packages (4.0.34)\n",
      "Collecting pyodbc\n",
      "  Downloading pyodbc-4.0.39-cp311-cp311-win_amd64.whl (69 kB)\n",
      "     ---------------------------------------- 0.0/69.7 kB ? eta -:--:--\n",
      "     ---------------------------------------- 69.7/69.7 kB 3.7 MB/s eta 0:00:00\n",
      "Installing collected packages: pyodbc\n",
      "  Attempting uninstall: pyodbc\n",
      "    Found existing installation: pyodbc 4.0.34\n",
      "    Uninstalling pyodbc-4.0.34:\n",
      "      Successfully uninstalled pyodbc-4.0.34\n",
      "Successfully installed pyodbc-4.0.39\n",
      "Collecting polars\n",
      "  Obtaining dependency information for polars from https://files.pythonhosted.org/packages/c5/18/4f0fbacc2f04eb1ef64cb7fe452d849d32c17bb10543391cfe7ac0cd4f9b/polars-0.18.7-cp38-abi3-win_amd64.whl.metadata\n",
      "  Using cached polars-0.18.7-cp38-abi3-win_amd64.whl.metadata (14 kB)\n",
      "Using cached polars-0.18.7-cp38-abi3-win_amd64.whl (19.8 MB)\n",
      "Installing collected packages: polars\n",
      "Successfully installed polars-0.18.7\n"
     ]
    }
   ],
   "source": [
    "#Install pip packages in the curret Jupyter kernal\n",
    "import sys\n",
    "!{sys.executable} -m pip install --upgrade pip\n",
    "!{sys.executable} -m pip install --upgrade pyodbc\n",
    "!{sys.executable} -m pip install polars"
   ]
  },
  {
   "cell_type": "code",
   "execution_count": 150,
   "id": "c285f41b-18e8-4ae3-ae8a-80f7093f9ff6",
   "metadata": {
    "tags": []
   },
   "outputs": [],
   "source": [
    "def pop_random(lst):\n",
    "    idx = random.randrange(0, len(lst))\n",
    "    return lst.pop(idx)\n",
    "\n",
    "wld_list = ['W'] * 45 + ['L'] * 45 + ['D'] * 10\n",
    "\n",
    "def match_dict(n):\n",
    "    lst = [\"Player \" + str(i) for i in range(n)]\n",
    "    pairs = []\n",
    "    pair_dict = {}\n",
    "    point_dict = {}\n",
    "    while lst:\n",
    "        rand1 = pop_random(lst)\n",
    "        rand2 = pop_random(lst)\n",
    "        pair = [rand1, rand2]\n",
    "        pairs.append(pair)\n",
    "    for pair in pairs:\n",
    "        pair_dict[pair[0]] = pair[1]\n",
    "        pair_dict[pair[1]] = pair[0]\n",
    "        wld = random.choice(wld_list)\n",
    "        if wld == \"W\":\n",
    "            point_dict[pair[0]] = 3\n",
    "            point_dict[pair[1]] = 0\n",
    "        elif wld == \"L\":\n",
    "            point_dict[pair[0]] = 0\n",
    "            point_dict[pair[1]] = 3\n",
    "        elif wld == \"D\":\n",
    "            point_dict[pair[0]] = 1\n",
    "            point_dict[pair[1]] = 1\n",
    "        \n",
    "    return pair_dict, point_dict"
   ]
  },
  {
   "cell_type": "markdown",
   "id": "600518fa-196c-4cbd-861a-309ba31e1178",
   "metadata": {},
   "source": [
    "Notes on behavior:\n",
    "\n",
    "Byes do not count towards OMW and OGW one way or othe other.\n",
    "\n",
    "If a bye is assigned, it's first assigned among subjects with the fewest byes (usually zero) and second among subjects with the fewest points (should be updated to lowest overall ranking).\n",
    "\n",
    "I've calculated omw, gw, and ogw wrong. They're fractions of points, not fractions of wins. See https://media.wizards.com/2023/wpn/marketing_materials/wpn/mtg_mtr_2023may29_en.pdf\n",
    "\n"
   ]
  },
  {
   "cell_type": "code",
   "execution_count": 1,
   "id": "933a4cef-9b45-4f78-911c-4d83e2244369",
   "metadata": {
    "tags": []
   },
   "outputs": [],
   "source": [
    "import random\n",
    "import polars as pl\n",
    "import networkx as nx"
   ]
  },
  {
   "cell_type": "code",
   "execution_count": 182,
   "id": "53d956c3-9610-4f5a-882a-cbe1207b684a",
   "metadata": {
    "tags": []
   },
   "outputs": [
    {
     "data": {
      "text/html": [
       "<div><style>\n",
       ".dataframe > thead > tr > th,\n",
       ".dataframe > tbody > tr > td {\n",
       "  text-align: right;\n",
       "}\n",
       "</style>\n",
       "<small>shape: (5, 12)</small><table border=\"1\" class=\"dataframe\"><thead><tr><th>player</th><th>match_pts</th><th>game_pts</th><th>match_tot</th><th>game_tot</th><th>opponents</th><th>dropped</th><th>mw</th><th>gw</th><th>omw</th><th>ogw</th><th>grp_idx</th></tr><tr><td>str</td><td>i64</td><td>i64</td><td>i64</td><td>i64</td><td>str</td><td>bool</td><td>f64</td><td>f64</td><td>f64</td><td>f64</td><td>i64</td></tr></thead><tbody><tr><td>&quot;Esben&quot;</td><td>0</td><td>0</td><td>0</td><td>0</td><td>&quot;&quot;</td><td>false</td><td>0.0</td><td>0.0</td><td>0.0</td><td>0.0</td><td>0</td></tr><tr><td>&quot;Jeppe&quot;</td><td>0</td><td>0</td><td>0</td><td>0</td><td>&quot;&quot;</td><td>false</td><td>0.0</td><td>0.0</td><td>0.0</td><td>0.0</td><td>0</td></tr><tr><td>&quot;Halfdan&quot;</td><td>0</td><td>0</td><td>0</td><td>0</td><td>&quot;&quot;</td><td>false</td><td>0.0</td><td>0.0</td><td>0.0</td><td>0.0</td><td>0</td></tr><tr><td>&quot;Asger&quot;</td><td>0</td><td>0</td><td>0</td><td>0</td><td>&quot;&quot;</td><td>false</td><td>0.0</td><td>0.0</td><td>0.0</td><td>0.0</td><td>0</td></tr><tr><td>&quot;Bakke&quot;</td><td>0</td><td>0</td><td>0</td><td>0</td><td>&quot;&quot;</td><td>false</td><td>0.0</td><td>0.0</td><td>0.0</td><td>0.0</td><td>0</td></tr></tbody></table></div>"
      ],
      "text/plain": [
       "shape: (5, 12)\n",
       "┌─────────┬───────────┬──────────┬───────────┬───┬─────┬─────┬─────┬─────────┐\n",
       "│ player  ┆ match_pts ┆ game_pts ┆ match_tot ┆ … ┆ gw  ┆ omw ┆ ogw ┆ grp_idx │\n",
       "│ ---     ┆ ---       ┆ ---      ┆ ---       ┆   ┆ --- ┆ --- ┆ --- ┆ ---     │\n",
       "│ str     ┆ i64       ┆ i64      ┆ i64       ┆   ┆ f64 ┆ f64 ┆ f64 ┆ i64     │\n",
       "╞═════════╪═══════════╪══════════╪═══════════╪═══╪═════╪═════╪═════╪═════════╡\n",
       "│ Esben   ┆ 0         ┆ 0        ┆ 0         ┆ … ┆ 0.0 ┆ 0.0 ┆ 0.0 ┆ 0       │\n",
       "│ Jeppe   ┆ 0         ┆ 0        ┆ 0         ┆ … ┆ 0.0 ┆ 0.0 ┆ 0.0 ┆ 0       │\n",
       "│ Halfdan ┆ 0         ┆ 0        ┆ 0         ┆ … ┆ 0.0 ┆ 0.0 ┆ 0.0 ┆ 0       │\n",
       "│ Asger   ┆ 0         ┆ 0        ┆ 0         ┆ … ┆ 0.0 ┆ 0.0 ┆ 0.0 ┆ 0       │\n",
       "│ Bakke   ┆ 0         ┆ 0        ┆ 0         ┆ … ┆ 0.0 ┆ 0.0 ┆ 0.0 ┆ 0       │\n",
       "└─────────┴───────────┴──────────┴───────────┴───┴─────┴─────┴─────┴─────────┘"
      ]
     },
     "execution_count": 182,
     "metadata": {},
     "output_type": "execute_result"
    }
   ],
   "source": [
    "players = [\"Esben\",\n",
    "          \"Jeppe\",\n",
    "          \"Halfdan\",\n",
    "          \"Asger\",\n",
    "          \"Bakke\"]\n",
    "if (len(players) > len(set(players))):\n",
    "    raise ValueError('There are non-unique players.')\n",
    "elif (\"Bye\" in players):\n",
    "    raise ValueError('You have listed \"Bye\" as a player. Please don\\'t.')\n",
    "\n",
    "players_df = pl.DataFrame({\"player\": players, \"match_pts\": 0, \"game_pts\": 0, \"match_tot\": 0, \"game_tot\": 0, \"opponents\": \"\", \"dropped\": False, \"mw\": 0., \"gw\": 0., \"omw\": 0., \"ogw\": 0., \"grp_idx\": 0})\n",
    "players_df"
   ]
  },
  {
   "cell_type": "code",
   "execution_count": 191,
   "id": "376ad1df-a210-4fbe-b81e-f512bb83def9",
   "metadata": {
    "tags": []
   },
   "outputs": [],
   "source": [
    "def pairings(pair_players):\n",
    "    \n",
    "    #Remove dropped players from pairing considerations\n",
    "    pair_players = pair_players.filter(pl.col(\"dropped\") == False)\n",
    "    \n",
    "    #If a bye needs to be assigned, do so first.\n",
    "    has_bye = len(pair_players) % 2 == 1\n",
    "    \n",
    "    if (has_bye):\n",
    "        #Find all players with the lowest number of byes (usually 0) and the highest group index in this group (lowest number of match points, poorest [o](m/g)w)\n",
    "        bye_players = pair_players.with_columns(\n",
    "            bye_count = pl.col(\"opponents\").str.count_match(\"Bye\")\n",
    "        ).filter(\n",
    "            pl.col(\"bye_count\") == pl.col(\"bye_count\").min()\n",
    "        ).filter(\n",
    "            pl.col(\"grp_idx\") == pl.col(\"grp_idx\").max()\n",
    "        )\n",
    "        \n",
    "        bye_pair = bye_players.sample(1).select(\"player\").vstack(\n",
    "                pl.DataFrame({\"player\": \"Bye\"})\n",
    "            ).with_columns(\n",
    "                match = 0,\n",
    "                play_draw = pl.Series([\"play\", \"draw\"])\n",
    "            )\n",
    "        \n",
    "        pair_players = pair_players.join(bye_pair, on = \"player\", how = \"anti\").with_columns(forbidden = pl.lit(\"\"))\n",
    "                \n",
    "    pairs_n = len(pair_players)/2\n",
    "    \n",
    "    pairs = pair_players.select(\"player\").with_columns(\n",
    "        match = 0,\n",
    "        play_draw = pl.lit(\"play\")\n",
    "    ).clear()\n",
    "    \n",
    "    #Extract list of opponents and assign a weight based on rank group\n",
    "    pair_players = pair_players.with_columns(\n",
    "        oppo_list = pl.col(\"opponents\").str.split(\"//\"),\n",
    "        #grp_pts = 1/(1+pl.col(\"grp_idx\")),\n",
    "        grp_pts = 1 + pl.col(\"grp_idx\").max() - pl.col(\"grp_idx\")\n",
    "    )\n",
    "    \n",
    "    graph_players = dict(zip(pair_players[\"player\"].to_list(), pair_players[\"oppo_list\"].to_list()))\n",
    "    graph_points = dict(zip(pair_players[\"player\"].to_list(), pair_players[\"grp_pts\"].to_list()))\n",
    "\n",
    "    bracketGraph = nx.Graph()\n",
    "    bracketGraph.add_nodes_from(graph_players)\n",
    "    \n",
    "    #Core pairing loop. Becomes slow with > 100 participants. Consider splitting it into piece when groups are big.\n",
    "    for player in bracketGraph.nodes():\n",
    "        for opponent in bracketGraph.nodes():\n",
    "            if opponent not in graph_players[player] and player != opponent:\n",
    "                #wgt = random.randint(1, 9) #randomizes pairings. Not necessarily desirable.\n",
    "                wgt = 1 + (graph_points[player] + graph_points[opponent])**2\n",
    "                bracketGraph.add_edge(player, opponent, weight=wgt)\n",
    "    \n",
    "    pairings_bg = nx.max_weight_matching(bracketGraph)\n",
    "    \n",
    "    for idx, pair_bg in enumerate(pairings_bg):\n",
    "        pair_df = pl.DataFrame({\"player\": pair_bg, \"match\": idx+1}).with_columns(\n",
    "            match = pl.col(\"match\").cast(pl.Int32),\n",
    "            play_draw = pl.Series(random.sample([\"play\", \"draw\"], 2))\n",
    "        )\n",
    "        pairs = pairs.vstack(pair_df)\n",
    "\n",
    "    if (has_bye):\n",
    "        pairs = bye_pair.vstack(pairs)\n",
    "            \n",
    "    pairs = pairs.pivot(\n",
    "        values=\"player\", index=\"match\", columns=\"play_draw\", aggregate_function=\"first\"        \n",
    "    ).select([\"match\", \"play\", \"draw\"])\n",
    "    \n",
    "    return pairs"
   ]
  },
  {
   "cell_type": "code",
   "execution_count": 184,
   "id": "e66f454d-66f9-44ec-8167-7880265808f3",
   "metadata": {
    "tags": []
   },
   "outputs": [
    {
     "data": {
      "text/html": [
       "<div><style>\n",
       ".dataframe > thead > tr > th,\n",
       ".dataframe > tbody > tr > td {\n",
       "  text-align: right;\n",
       "}\n",
       "</style>\n",
       "<small>shape: (3, 3)</small><table border=\"1\" class=\"dataframe\"><thead><tr><th>match</th><th>play</th><th>draw</th></tr><tr><td>i32</td><td>str</td><td>str</td></tr></thead><tbody><tr><td>0</td><td>&quot;Halfdan&quot;</td><td>&quot;Bye&quot;</td></tr><tr><td>1</td><td>&quot;Jeppe&quot;</td><td>&quot;Esben&quot;</td></tr><tr><td>2</td><td>&quot;Bakke&quot;</td><td>&quot;Asger&quot;</td></tr></tbody></table></div>"
      ],
      "text/plain": [
       "shape: (3, 3)\n",
       "┌───────┬─────────┬───────┐\n",
       "│ match ┆ play    ┆ draw  │\n",
       "│ ---   ┆ ---     ┆ ---   │\n",
       "│ i32   ┆ str     ┆ str   │\n",
       "╞═══════╪═════════╪═══════╡\n",
       "│ 0     ┆ Halfdan ┆ Bye   │\n",
       "│ 1     ┆ Jeppe   ┆ Esben │\n",
       "│ 2     ┆ Bakke   ┆ Asger │\n",
       "└───────┴─────────┴───────┘"
      ]
     },
     "execution_count": 184,
     "metadata": {},
     "output_type": "execute_result"
    }
   ],
   "source": [
    "pairings_1 = pairings(players_df)\n",
    "pairings_1"
   ]
  },
  {
   "cell_type": "code",
   "execution_count": 195,
   "id": "6cba1c66-e0b5-4647-8f57-785dd7c4264c",
   "metadata": {
    "tags": []
   },
   "outputs": [],
   "source": [
    "def results(players_df, pairings_df, result_list = None, drop_list = None):\n",
    "    \n",
    "    #TODO: Accept manual results\n",
    "    if (result_list is None):\n",
    "        result_list = input(\"How did it go? \")\n",
    "        \n",
    "    if (len(pairings_df.filter(pl.col(\"play\") == \"Bye\")) > 0):\n",
    "        result_list = [\"0-2\"] + result_list\n",
    "    elif (len(pairings_df.filter(pl.col(\"draw\") == \"Bye\")) > 0):\n",
    "        result_list = [\"2-0\"] + result_list\n",
    "    \n",
    "    result_df = pl.DataFrame({\"result\": result_list}).with_columns(\n",
    "        wins = pl.col(\"result\").str.split_exact(\"-\", 2)\n",
    "    ).unnest(\"wins\").rename(\n",
    "        {\"field_0\": \"play_wins\", \"field_1\": \"draw_wins\", \"field_2\": \"games_drawn\"}\n",
    "    ).with_columns(\n",
    "        play_wins = pl.col(\"play_wins\").cast(pl.Int32),\n",
    "        draw_wins = pl.col(\"draw_wins\").cast(pl.Int32),\n",
    "        games_drawn = pl.col(\"games_drawn\").cast(pl.Int32),\n",
    "        play_points = pl.when(pl.col(\"play_wins\") > pl.col(\"draw_wins\")).then(pl.lit(3))\\\n",
    "            .when(pl.col(\"play_wins\") == pl.col(\"draw_wins\")).then(pl.lit(1))\\\n",
    "            .otherwise(pl.lit(0)),\n",
    "        draw_points = pl.when(pl.col(\"draw_wins\") > pl.col(\"play_wins\")).then(pl.lit(3))\\\n",
    "            .when(pl.col(\"draw_wins\") == pl.col(\"play_wins\")).then(pl.lit(1))\\\n",
    "            .otherwise(pl.lit(0))\n",
    "    ).fill_null(0).with_columns(\n",
    "        total_games = pl.col(\"play_wins\") + pl.col(\"draw_wins\") + pl.col(\"games_drawn\")\n",
    "    )\n",
    "    \n",
    "    result_df = pairings_df.hstack(result_df)\n",
    "    \n",
    "    play_df = result_df.select(pl.col(\"^play_.*$\"), player = \"play\", new_opponent = \"draw\", new_draws = \"games_drawn\", new_games = \"total_games\")\n",
    "    draw_df = result_df.select(pl.col(\"^draw_.*$\"), player = \"draw\", new_opponent = \"play\", new_draws = \"games_drawn\", new_games = \"total_games\")\n",
    "\n",
    "    play_df.columns = list(map(lambda x: x.replace(\"play_\", \"new_\"), play_df.columns))\n",
    "    draw_df.columns = list(map(lambda x: x.replace(\"draw_\", \"new_\"), draw_df.columns))\n",
    "    \n",
    "    update_df = play_df.vstack(draw_df).filter(pl.col(\"player\") != \"Bye\")\n",
    "    \n",
    "    players_df = players_df.drop([\"gw\", \"omw\", \"ogw\", \"grp_idx\"]).join(update_df, on = \"player\", how = \"left\").with_columns(\n",
    "        match_pts = pl.col(\"match_pts\") + pl.col(\"new_points\"),\n",
    "        game_pts = pl.col(\"game_pts\") + 3*pl.col(\"new_wins\") + pl.col(\"new_draws\"),\n",
    "        match_tot = pl.col(\"match_tot\") + pl.lit(1),\n",
    "        game_tot = pl.col(\"game_tot\") + pl.col(\"new_games\"),\n",
    "        opponents = (pl.col(\"opponents\") + pl.lit(\"//\") + pl.col(\"new_opponent\")).str.replace(\"^//\", \"\")\n",
    "    ).select(pl.col(\"^[^n].*$\")).with_columns(\n",
    "        oppo_struct = pl.col(\"opponents\").str.split(\"//\").list.to_struct()\n",
    "    ).with_columns(\n",
    "        mw = 100*pl.col(\"match_pts\")/(3*pl.col(\"match_tot\")),\n",
    "        gw = 100*pl.col(\"game_pts\")/(3*pl.col(\"game_tot\"))\n",
    "    ).with_columns(\n",
    "        mw = pl.when(pl.col(\"mw\")>= 33).then(pl.col(\"mw\")).otherwise(33),\n",
    "        gw = pl.when(pl.col(\"gw\")>= 33).then(pl.col(\"gw\")).otherwise(33)\n",
    "    )\n",
    "    \n",
    "    player_opponent_df = players_df.unnest(\"oppo_struct\").select(pl.col(\"^field.*$\"), \"player\").melt(\n",
    "        id_vars = \"player\", value_vars = None, value_name = \"opponent\"\n",
    "    ).drop(\"variable\").join(\n",
    "        players_df.select([\"player\", \"mw\", \"gw\"]), left_on = \"opponent\", right_on = \"player\", how = \"inner\"\n",
    "    ).groupby(\"player\").mean().drop(\"opponent\").rename(\n",
    "        {\"mw\": \"omw\", \"gw\": \"ogw\"}\n",
    "    )\n",
    "    \n",
    "    players_df = players_df.join(\n",
    "        player_opponent_df, on = \"player\", how = \"left\"\n",
    "    ).fill_null(33).sort([\"match_pts\", \"omw\", \"gw\", \"ogw\"], descending = True).drop(\"oppo_struct\").with_columns(\n",
    "        dropped = pl.when(pl.col(\"player\").is_in(drop_list)).then(pl.lit(True)).otherwise(pl.lit(False))\n",
    "    )\n",
    "    \n",
    "    #Create an index that encapsulates ranking information.\n",
    "    grp_idx = []\n",
    "    for idx, df in enumerate(players_df.groupby([\"match_pts\", \"omw\", \"gw\", \"ogw\"], maintain_order = True)):\n",
    "        grp_idx = grp_idx + [idx] * len(df[1])\n",
    "    players_df = players_df.hstack(pl.DataFrame({\"grp_idx\": grp_idx}))\n",
    "\n",
    "    return players_df"
   ]
  },
  {
   "cell_type": "code",
   "execution_count": 196,
   "id": "96bb316f-abe9-4335-af10-ea35307ed581",
   "metadata": {
    "tags": []
   },
   "outputs": [
    {
     "name": "stdout",
     "output_type": "stream",
     "text": [
      "shape: (3, 3)\n",
      "┌───────┬─────────┬───────┐\n",
      "│ match ┆ play    ┆ draw  │\n",
      "│ ---   ┆ ---     ┆ ---   │\n",
      "│ i32   ┆ str     ┆ str   │\n",
      "╞═══════╪═════════╪═══════╡\n",
      "│ 0     ┆ Halfdan ┆ Bye   │\n",
      "│ 1     ┆ Jeppe   ┆ Esben │\n",
      "│ 2     ┆ Bakke   ┆ Asger │\n",
      "└───────┴─────────┴───────┘\n"
     ]
    },
    {
     "data": {
      "text/html": [
       "<div><style>\n",
       ".dataframe > thead > tr > th,\n",
       ".dataframe > tbody > tr > td {\n",
       "  text-align: right;\n",
       "}\n",
       "</style>\n",
       "<small>shape: (5, 12)</small><table border=\"1\" class=\"dataframe\"><thead><tr><th>player</th><th>match_pts</th><th>game_pts</th><th>match_tot</th><th>game_tot</th><th>opponents</th><th>dropped</th><th>mw</th><th>gw</th><th>omw</th><th>ogw</th><th>grp_idx</th></tr><tr><td>str</td><td>i64</td><td>i64</td><td>i64</td><td>i64</td><td>str</td><td>bool</td><td>f64</td><td>f64</td><td>f64</td><td>f64</td><td>i64</td></tr></thead><tbody><tr><td>&quot;Halfdan&quot;</td><td>3</td><td>6</td><td>1</td><td>2</td><td>&quot;Bye&quot;</td><td>false</td><td>100.0</td><td>100.0</td><td>33.0</td><td>33.0</td><td>0</td></tr><tr><td>&quot;Jeppe&quot;</td><td>3</td><td>6</td><td>1</td><td>3</td><td>&quot;Esben&quot;</td><td>false</td><td>100.0</td><td>66.666667</td><td>33.0</td><td>33.333333</td><td>1</td></tr><tr><td>&quot;Asger&quot;</td><td>1</td><td>4</td><td>1</td><td>3</td><td>&quot;Bakke&quot;</td><td>false</td><td>33.333333</td><td>44.444444</td><td>33.333333</td><td>44.444444</td><td>2</td></tr><tr><td>&quot;Bakke&quot;</td><td>1</td><td>4</td><td>1</td><td>3</td><td>&quot;Asger&quot;</td><td>false</td><td>33.333333</td><td>44.444444</td><td>33.333333</td><td>44.444444</td><td>2</td></tr><tr><td>&quot;Esben&quot;</td><td>0</td><td>3</td><td>1</td><td>3</td><td>&quot;Jeppe&quot;</td><td>false</td><td>33.0</td><td>33.333333</td><td>100.0</td><td>66.666667</td><td>3</td></tr></tbody></table></div>"
      ],
      "text/plain": [
       "shape: (5, 12)\n",
       "┌─────────┬───────────┬──────────┬───────────┬───┬───────────┬───────────┬───────────┬─────────┐\n",
       "│ player  ┆ match_pts ┆ game_pts ┆ match_tot ┆ … ┆ gw        ┆ omw       ┆ ogw       ┆ grp_idx │\n",
       "│ ---     ┆ ---       ┆ ---      ┆ ---       ┆   ┆ ---       ┆ ---       ┆ ---       ┆ ---     │\n",
       "│ str     ┆ i64       ┆ i64      ┆ i64       ┆   ┆ f64       ┆ f64       ┆ f64       ┆ i64     │\n",
       "╞═════════╪═══════════╪══════════╪═══════════╪═══╪═══════════╪═══════════╪═══════════╪═════════╡\n",
       "│ Halfdan ┆ 3         ┆ 6        ┆ 1         ┆ … ┆ 100.0     ┆ 33.0      ┆ 33.0      ┆ 0       │\n",
       "│ Jeppe   ┆ 3         ┆ 6        ┆ 1         ┆ … ┆ 66.666667 ┆ 33.0      ┆ 33.333333 ┆ 1       │\n",
       "│ Asger   ┆ 1         ┆ 4        ┆ 1         ┆ … ┆ 44.444444 ┆ 33.333333 ┆ 44.444444 ┆ 2       │\n",
       "│ Bakke   ┆ 1         ┆ 4        ┆ 1         ┆ … ┆ 44.444444 ┆ 33.333333 ┆ 44.444444 ┆ 2       │\n",
       "│ Esben   ┆ 0         ┆ 3        ┆ 1         ┆ … ┆ 33.333333 ┆ 100.0     ┆ 66.666667 ┆ 3       │\n",
       "└─────────┴───────────┴──────────┴───────────┴───┴───────────┴───────────┴───────────┴─────────┘"
      ]
     },
     "execution_count": 196,
     "metadata": {},
     "output_type": "execute_result"
    }
   ],
   "source": [
    "players_df_1 = results(players_df, pairings_1, [\"2-1\", \"1-1-1\"])\n",
    "pairings_2 = pairings(players_df_1)\n",
    "print(pairings_1)\n",
    "players_df_1"
   ]
  },
  {
   "cell_type": "code",
   "execution_count": 197,
   "id": "eb7ff388-7e1b-4228-af4e-2205055ed62d",
   "metadata": {
    "tags": []
   },
   "outputs": [
    {
     "name": "stdout",
     "output_type": "stream",
     "text": [
      "shape: (3, 3)\n",
      "┌───────┬─────────┬───────┐\n",
      "│ match ┆ play    ┆ draw  │\n",
      "│ ---   ┆ ---     ┆ ---   │\n",
      "│ i32   ┆ str     ┆ str   │\n",
      "╞═══════╪═════════╪═══════╡\n",
      "│ 0     ┆ Asger   ┆ Bye   │\n",
      "│ 1     ┆ Halfdan ┆ Esben │\n",
      "│ 2     ┆ Jeppe   ┆ Bakke │\n",
      "└───────┴─────────┴───────┘\n"
     ]
    },
    {
     "data": {
      "text/html": [
       "<div><style>\n",
       ".dataframe > thead > tr > th,\n",
       ".dataframe > tbody > tr > td {\n",
       "  text-align: right;\n",
       "}\n",
       "</style>\n",
       "<small>shape: (5, 12)</small><table border=\"1\" class=\"dataframe\"><thead><tr><th>player</th><th>match_pts</th><th>game_pts</th><th>match_tot</th><th>game_tot</th><th>opponents</th><th>dropped</th><th>mw</th><th>gw</th><th>omw</th><th>ogw</th><th>grp_idx</th></tr><tr><td>str</td><td>i64</td><td>i64</td><td>i64</td><td>i64</td><td>str</td><td>bool</td><td>f64</td><td>f64</td><td>f64</td><td>f64</td><td>i64</td></tr></thead><tbody><tr><td>&quot;Jeppe&quot;</td><td>4</td><td>10</td><td>2</td><td>6</td><td>&quot;Esben//Asger&quot;</td><td>false</td><td>66.666667</td><td>55.555556</td><td>41.666667</td><td>52.222222</td><td>0</td></tr><tr><td>&quot;Bakke&quot;</td><td>4</td><td>10</td><td>2</td><td>6</td><td>&quot;Asger//Halfdan…</td><td>false</td><td>66.666667</td><td>55.555556</td><td>41.666667</td><td>52.222222</td><td>0</td></tr><tr><td>&quot;Halfdan&quot;</td><td>3</td><td>9</td><td>2</td><td>5</td><td>&quot;Bye//Bakke&quot;</td><td>false</td><td>50.0</td><td>60.0</td><td>66.666667</td><td>55.555556</td><td>1</td></tr><tr><td>&quot;Esben&quot;</td><td>3</td><td>9</td><td>2</td><td>5</td><td>&quot;Jeppe//Bye&quot;</td><td>false</td><td>50.0</td><td>60.0</td><td>66.666667</td><td>55.555556</td><td>1</td></tr><tr><td>&quot;Asger&quot;</td><td>2</td><td>8</td><td>2</td><td>6</td><td>&quot;Bakke//Jeppe&quot;</td><td>false</td><td>33.333333</td><td>44.444444</td><td>66.666667</td><td>55.555556</td><td>2</td></tr></tbody></table></div>"
      ],
      "text/plain": [
       "shape: (5, 12)\n",
       "┌─────────┬───────────┬──────────┬───────────┬───┬───────────┬───────────┬───────────┬─────────┐\n",
       "│ player  ┆ match_pts ┆ game_pts ┆ match_tot ┆ … ┆ gw        ┆ omw       ┆ ogw       ┆ grp_idx │\n",
       "│ ---     ┆ ---       ┆ ---      ┆ ---       ┆   ┆ ---       ┆ ---       ┆ ---       ┆ ---     │\n",
       "│ str     ┆ i64       ┆ i64      ┆ i64       ┆   ┆ f64       ┆ f64       ┆ f64       ┆ i64     │\n",
       "╞═════════╪═══════════╪══════════╪═══════════╪═══╪═══════════╪═══════════╪═══════════╪═════════╡\n",
       "│ Jeppe   ┆ 4         ┆ 10       ┆ 2         ┆ … ┆ 55.555556 ┆ 41.666667 ┆ 52.222222 ┆ 0       │\n",
       "│ Bakke   ┆ 4         ┆ 10       ┆ 2         ┆ … ┆ 55.555556 ┆ 41.666667 ┆ 52.222222 ┆ 0       │\n",
       "│ Halfdan ┆ 3         ┆ 9        ┆ 2         ┆ … ┆ 60.0      ┆ 66.666667 ┆ 55.555556 ┆ 1       │\n",
       "│ Esben   ┆ 3         ┆ 9        ┆ 2         ┆ … ┆ 60.0      ┆ 66.666667 ┆ 55.555556 ┆ 1       │\n",
       "│ Asger   ┆ 2         ┆ 8        ┆ 2         ┆ … ┆ 44.444444 ┆ 66.666667 ┆ 55.555556 ┆ 2       │\n",
       "└─────────┴───────────┴──────────┴───────────┴───┴───────────┴───────────┴───────────┴─────────┘"
      ]
     },
     "execution_count": 197,
     "metadata": {},
     "output_type": "execute_result"
    }
   ],
   "source": [
    "players_df_2 = results(players_df_1, pairings_2, [\"2-1\", \"1-1-1\"])\n",
    "pairings_3 = pairings(players_df_2)\n",
    "print(pairings_3)\n",
    "players_df_2"
   ]
  },
  {
   "cell_type": "code",
   "execution_count": 180,
   "id": "c5e52bfb-7e12-47ab-ae26-f57c90ef9db9",
   "metadata": {},
   "outputs": [
    {
     "data": {
      "text/html": [
       "<div><style>\n",
       ".dataframe > thead > tr > th,\n",
       ".dataframe > tbody > tr > td {\n",
       "  text-align: right;\n",
       "}\n",
       "</style>\n",
       "<small>shape: (5, 12)</small><table border=\"1\" class=\"dataframe\"><thead><tr><th>player</th><th>match_pts</th><th>game_pts</th><th>match_tot</th><th>game_tot</th><th>opponents</th><th>dropped</th><th>mw</th><th>gw</th><th>omw</th><th>ogw</th><th>grp_idx</th></tr><tr><td>str</td><td>i64</td><td>i64</td><td>i64</td><td>i64</td><td>str</td><td>bool</td><td>f64</td><td>f64</td><td>f64</td><td>f64</td><td>i64</td></tr></thead><tbody><tr><td>&quot;Halfdan&quot;</td><td>6</td><td>12</td><td>2</td><td>6</td><td>&quot;Asger//Bakke&quot;</td><td>false</td><td>100.0</td><td>66.666667</td><td>50.0</td><td>60.0</td><td>0</td></tr><tr><td>&quot;Bakke&quot;</td><td>3</td><td>9</td><td>2</td><td>5</td><td>&quot;Bye//Halfdan&quot;</td><td>false</td><td>50.0</td><td>60.0</td><td>100.0</td><td>66.666667</td><td>1</td></tr><tr><td>&quot;Asger&quot;</td><td>3</td><td>9</td><td>2</td><td>5</td><td>&quot;Halfdan//Bye&quot;</td><td>false</td><td>50.0</td><td>60.0</td><td>100.0</td><td>66.666667</td><td>1</td></tr><tr><td>&quot;Esben&quot;</td><td>2</td><td>12</td><td>2</td><td>6</td><td>&quot;Jeppe//Jeppe&quot;</td><td>false</td><td>33.333333</td><td>66.666667</td><td>33.333333</td><td>66.666667</td><td>2</td></tr><tr><td>&quot;Jeppe&quot;</td><td>2</td><td>12</td><td>2</td><td>6</td><td>&quot;Esben//Esben&quot;</td><td>false</td><td>33.333333</td><td>66.666667</td><td>33.333333</td><td>66.666667</td><td>2</td></tr></tbody></table></div>"
      ],
      "text/plain": [
       "shape: (5, 12)\n",
       "┌─────────┬───────────┬──────────┬───────────┬───┬───────────┬───────────┬───────────┬─────────┐\n",
       "│ player  ┆ match_pts ┆ game_pts ┆ match_tot ┆ … ┆ gw        ┆ omw       ┆ ogw       ┆ grp_idx │\n",
       "│ ---     ┆ ---       ┆ ---      ┆ ---       ┆   ┆ ---       ┆ ---       ┆ ---       ┆ ---     │\n",
       "│ str     ┆ i64       ┆ i64      ┆ i64       ┆   ┆ f64       ┆ f64       ┆ f64       ┆ i64     │\n",
       "╞═════════╪═══════════╪══════════╪═══════════╪═══╪═══════════╪═══════════╪═══════════╪═════════╡\n",
       "│ Halfdan ┆ 6         ┆ 12       ┆ 2         ┆ … ┆ 66.666667 ┆ 50.0      ┆ 60.0      ┆ 0       │\n",
       "│ Bakke   ┆ 3         ┆ 9        ┆ 2         ┆ … ┆ 60.0      ┆ 100.0     ┆ 66.666667 ┆ 1       │\n",
       "│ Asger   ┆ 3         ┆ 9        ┆ 2         ┆ … ┆ 60.0      ┆ 100.0     ┆ 66.666667 ┆ 1       │\n",
       "│ Esben   ┆ 2         ┆ 12       ┆ 2         ┆ … ┆ 66.666667 ┆ 33.333333 ┆ 66.666667 ┆ 2       │\n",
       "│ Jeppe   ┆ 2         ┆ 12       ┆ 2         ┆ … ┆ 66.666667 ┆ 33.333333 ┆ 66.666667 ┆ 2       │\n",
       "└─────────┴───────────┴──────────┴───────────┴───┴───────────┴───────────┴───────────┴─────────┘"
      ]
     },
     "execution_count": 180,
     "metadata": {},
     "output_type": "execute_result"
    }
   ],
   "source": [
    "players_df_2"
   ]
  },
  {
   "cell_type": "code",
   "execution_count": 181,
   "id": "f2d08b67-4fec-4a85-995e-bb3671fc1658",
   "metadata": {
    "tags": []
   },
   "outputs": [
    {
     "data": {
      "text/html": [
       "<div><style>\n",
       ".dataframe > thead > tr > th,\n",
       ".dataframe > tbody > tr > td {\n",
       "  text-align: right;\n",
       "}\n",
       "</style>\n",
       "<small>shape: (5, 12)</small><table border=\"1\" class=\"dataframe\"><thead><tr><th>player</th><th>match_pts</th><th>game_pts</th><th>match_tot</th><th>game_tot</th><th>opponents</th><th>dropped</th><th>mw</th><th>gw</th><th>omw</th><th>ogw</th><th>grp_idx</th></tr><tr><td>str</td><td>i64</td><td>i64</td><td>i64</td><td>i64</td><td>str</td><td>bool</td><td>f64</td><td>f64</td><td>f64</td><td>f64</td><td>i64</td></tr></thead><tbody><tr><td>&quot;Halfdan&quot;</td><td>9</td><td>18</td><td>3</td><td>9</td><td>&quot;Asger//Bakke//…</td><td>false</td><td>100.0</td><td>66.666667</td><td>37.037037</td><td>54.166667</td><td>0</td></tr><tr><td>&quot;Esben&quot;</td><td>5</td><td>18</td><td>3</td><td>8</td><td>&quot;Jeppe//Jeppe//…</td><td>false</td><td>55.555556</td><td>75.0</td><td>33.333333</td><td>66.666667</td><td>1</td></tr><tr><td>&quot;Asger&quot;</td><td>4</td><td>15</td><td>3</td><td>8</td><td>&quot;Halfdan//Bye//…</td><td>false</td><td>44.444444</td><td>62.5</td><td>66.666667</td><td>66.666667</td><td>2</td></tr><tr><td>&quot;Bakke&quot;</td><td>3</td><td>12</td><td>3</td><td>8</td><td>&quot;Bye//Halfdan//…</td><td>false</td><td>33.333333</td><td>50.0</td><td>100.0</td><td>66.666667</td><td>3</td></tr><tr><td>&quot;Jeppe&quot;</td><td>3</td><td>18</td><td>3</td><td>9</td><td>&quot;Esben//Esben//…</td><td>false</td><td>33.333333</td><td>66.666667</td><td>51.851852</td><td>70.833333</td><td>4</td></tr></tbody></table></div>"
      ],
      "text/plain": [
       "shape: (5, 12)\n",
       "┌─────────┬───────────┬──────────┬───────────┬───┬───────────┬───────────┬───────────┬─────────┐\n",
       "│ player  ┆ match_pts ┆ game_pts ┆ match_tot ┆ … ┆ gw        ┆ omw       ┆ ogw       ┆ grp_idx │\n",
       "│ ---     ┆ ---       ┆ ---      ┆ ---       ┆   ┆ ---       ┆ ---       ┆ ---       ┆ ---     │\n",
       "│ str     ┆ i64       ┆ i64      ┆ i64       ┆   ┆ f64       ┆ f64       ┆ f64       ┆ i64     │\n",
       "╞═════════╪═══════════╪══════════╪═══════════╪═══╪═══════════╪═══════════╪═══════════╪═════════╡\n",
       "│ Halfdan ┆ 9         ┆ 18       ┆ 3         ┆ … ┆ 66.666667 ┆ 37.037037 ┆ 54.166667 ┆ 0       │\n",
       "│ Esben   ┆ 5         ┆ 18       ┆ 3         ┆ … ┆ 75.0      ┆ 33.333333 ┆ 66.666667 ┆ 1       │\n",
       "│ Asger   ┆ 4         ┆ 15       ┆ 3         ┆ … ┆ 62.5      ┆ 66.666667 ┆ 66.666667 ┆ 2       │\n",
       "│ Bakke   ┆ 3         ┆ 12       ┆ 3         ┆ … ┆ 50.0      ┆ 100.0     ┆ 66.666667 ┆ 3       │\n",
       "│ Jeppe   ┆ 3         ┆ 18       ┆ 3         ┆ … ┆ 66.666667 ┆ 51.851852 ┆ 70.833333 ┆ 4       │\n",
       "└─────────┴───────────┴──────────┴───────────┴───┴───────────┴───────────┴───────────┴─────────┘"
      ]
     },
     "execution_count": 181,
     "metadata": {},
     "output_type": "execute_result"
    }
   ],
   "source": [
    "results(players_df_2, pairings_3, [\"2-1\", \"1-1-1\"])"
   ]
  }
 ],
 "metadata": {
  "kernelspec": {
   "display_name": "Python 3 (ipykernel)",
   "language": "python",
   "name": "python3"
  },
  "language_info": {
   "codemirror_mode": {
    "name": "ipython",
    "version": 3
   },
   "file_extension": ".py",
   "mimetype": "text/x-python",
   "name": "python",
   "nbconvert_exporter": "python",
   "pygments_lexer": "ipython3",
   "version": "3.11.3"
  }
 },
 "nbformat": 4,
 "nbformat_minor": 5
}
