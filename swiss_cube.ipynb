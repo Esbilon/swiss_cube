{
 "cells": [
  {
   "cell_type": "code",
   "execution_count": 1,
   "id": "9a5edb87-e5a8-4020-8d98-6296e27b63ed",
   "metadata": {
    "tags": []
   },
   "outputs": [
    {
     "name": "stdout",
     "output_type": "stream",
     "text": [
      "Requirement already satisfied: pip in c:\\users\\esben\\anaconda3\\lib\\site-packages (23.1.2)\n",
      "Collecting pip\n",
      "  Using cached pip-23.2-py3-none-any.whl (2.1 MB)\n",
      "Installing collected packages: pip\n",
      "  Attempting uninstall: pip\n",
      "    Found existing installation: pip 23.1.2\n",
      "    Uninstalling pip-23.1.2:\n",
      "      Successfully uninstalled pip-23.1.2\n",
      "Successfully installed pip-23.2\n",
      "Requirement already satisfied: pyodbc in c:\\users\\esben\\anaconda3\\lib\\site-packages (4.0.34)\n",
      "Collecting pyodbc\n",
      "  Downloading pyodbc-4.0.39-cp311-cp311-win_amd64.whl (69 kB)\n",
      "     ---------------------------------------- 0.0/69.7 kB ? eta -:--:--\n",
      "     ---------------------------------------- 69.7/69.7 kB 3.7 MB/s eta 0:00:00\n",
      "Installing collected packages: pyodbc\n",
      "  Attempting uninstall: pyodbc\n",
      "    Found existing installation: pyodbc 4.0.34\n",
      "    Uninstalling pyodbc-4.0.34:\n",
      "      Successfully uninstalled pyodbc-4.0.34\n",
      "Successfully installed pyodbc-4.0.39\n",
      "Collecting polars\n",
      "  Obtaining dependency information for polars from https://files.pythonhosted.org/packages/c5/18/4f0fbacc2f04eb1ef64cb7fe452d849d32c17bb10543391cfe7ac0cd4f9b/polars-0.18.7-cp38-abi3-win_amd64.whl.metadata\n",
      "  Using cached polars-0.18.7-cp38-abi3-win_amd64.whl.metadata (14 kB)\n",
      "Using cached polars-0.18.7-cp38-abi3-win_amd64.whl (19.8 MB)\n",
      "Installing collected packages: polars\n",
      "Successfully installed polars-0.18.7\n"
     ]
    }
   ],
   "source": [
    "#Install pip packages in the curret Jupyter kernal\n",
    "import sys\n",
    "!{sys.executable} -m pip install --upgrade pip\n",
    "!{sys.executable} -m pip install --upgrade pyodbc\n",
    "!{sys.executable} -m pip install polars"
   ]
  },
  {
   "cell_type": "code",
   "execution_count": 139,
   "id": "c285f41b-18e8-4ae3-ae8a-80f7093f9ff6",
   "metadata": {
    "tags": []
   },
   "outputs": [
    {
     "data": {
      "text/plain": [
       "['1-2', '1-1-1', '1-1-1', '0-1-1', '1-2', '2-1', '2-0', '1-2', '2-0', '0-2']"
      ]
     },
     "execution_count": 139,
     "metadata": {},
     "output_type": "execute_result"
    }
   ],
   "source": [
    "def pop_random(lst):\n",
    "    idx = random.randrange(0, len(lst))\n",
    "    return lst.pop(idx)\n",
    "\n",
    "wld_list = ['W'] * 45 + ['L'] * 45 + ['D'] * 10\n",
    "\n",
    "def match_dict(n):\n",
    "    lst = [\"Player \" + str(i) for i in range(n)]\n",
    "    pairs = []\n",
    "    pair_dict = {}\n",
    "    point_dict = {}\n",
    "    while lst:\n",
    "        rand1 = pop_random(lst)\n",
    "        rand2 = pop_random(lst)\n",
    "        pair = [rand1, rand2]\n",
    "        pairs.append(pair)\n",
    "    for pair in pairs:\n",
    "        pair_dict[pair[0]] = pair[1]\n",
    "        pair_dict[pair[1]] = pair[0]\n",
    "        wld = random.choice(wld_list)\n",
    "        if wld == \"W\":\n",
    "            point_dict[pair[0]] = 3\n",
    "            point_dict[pair[1]] = 0\n",
    "        elif wld == \"L\":\n",
    "            point_dict[pair[0]] = 0\n",
    "            point_dict[pair[1]] = 3\n",
    "        elif wld == \"D\":\n",
    "            point_dict[pair[0]] = 1\n",
    "            point_dict[pair[1]] = 1\n",
    "        \n",
    "    return pair_dict, point_dict\n",
    "\n",
    "sco_list = ['2-1'] * 29 + ['2-0'] * 15 + ['1-0-1'] * 1 + ['1-2'] * 29 + ['0-2'] * 15 + ['0-1-1'] * 1 + ['1-1-1'] * 8 + ['1-1'] * 1 + ['0-0-1'] * 1\n",
    "\n",
    "def rand_res(n):\n",
    "    res = []\n",
    "    for idx in range(n):\n",
    "        sco = random.choice(sco_list)\n",
    "        res = res + [sco]\n",
    "        \n",
    "    return res\n",
    "\n",
    "[\"Player \" + str(i) for i in range(10)]\n",
    "rand_res(10)"
   ]
  },
  {
   "cell_type": "markdown",
   "id": "600518fa-196c-4cbd-861a-309ba31e1178",
   "metadata": {},
   "source": [
    "Notes on behavior:\n",
    "\n",
    "If a bye is assigned, it's first assigned among subjects with the fewest byes (usually zero) and second among subjects with the fewest points (should be updated to lowest overall ranking).\n",
    "\n",
    "Remaining matches are distributed by networkx.max_weight_matching with weights derived from each player's place in the rankings.\n"
   ]
  },
  {
   "cell_type": "code",
   "execution_count": 22,
   "id": "933a4cef-9b45-4f78-911c-4d83e2244369",
   "metadata": {
    "tags": []
   },
   "outputs": [],
   "source": [
    "import random\n",
    "import polars as pl\n",
    "import networkx as nx"
   ]
  },
  {
   "cell_type": "code",
   "execution_count": 140,
   "id": "53d956c3-9610-4f5a-882a-cbe1207b684a",
   "metadata": {
    "tags": []
   },
   "outputs": [
    {
     "data": {
      "text/html": [
       "<div><style>\n",
       ".dataframe > thead > tr > th,\n",
       ".dataframe > tbody > tr > td {\n",
       "  text-align: right;\n",
       "}\n",
       "</style>\n",
       "<small>shape: (10, 13)</small><table border=\"1\" class=\"dataframe\"><thead><tr><th>player</th><th>match_pts</th><th>game_pts</th><th>match_tot</th><th>game_tot</th><th>opponents</th><th>dropped</th><th>mw</th><th>gw</th><th>omw</th><th>ogw</th><th>grp_idx</th><th>pd_count</th></tr><tr><td>str</td><td>i64</td><td>i64</td><td>i64</td><td>i64</td><td>str</td><td>bool</td><td>f64</td><td>f64</td><td>f64</td><td>f64</td><td>i64</td><td>i64</td></tr></thead><tbody><tr><td>&quot;Player 0&quot;</td><td>0</td><td>0</td><td>0</td><td>0</td><td>&quot;&quot;</td><td>false</td><td>0.0</td><td>0.0</td><td>0.0</td><td>0.0</td><td>0</td><td>0</td></tr><tr><td>&quot;Player 1&quot;</td><td>0</td><td>0</td><td>0</td><td>0</td><td>&quot;&quot;</td><td>false</td><td>0.0</td><td>0.0</td><td>0.0</td><td>0.0</td><td>0</td><td>0</td></tr><tr><td>&quot;Player 2&quot;</td><td>0</td><td>0</td><td>0</td><td>0</td><td>&quot;&quot;</td><td>false</td><td>0.0</td><td>0.0</td><td>0.0</td><td>0.0</td><td>0</td><td>0</td></tr><tr><td>&quot;Player 3&quot;</td><td>0</td><td>0</td><td>0</td><td>0</td><td>&quot;&quot;</td><td>false</td><td>0.0</td><td>0.0</td><td>0.0</td><td>0.0</td><td>0</td><td>0</td></tr><tr><td>&quot;Player 4&quot;</td><td>0</td><td>0</td><td>0</td><td>0</td><td>&quot;&quot;</td><td>false</td><td>0.0</td><td>0.0</td><td>0.0</td><td>0.0</td><td>0</td><td>0</td></tr><tr><td>&quot;Player 5&quot;</td><td>0</td><td>0</td><td>0</td><td>0</td><td>&quot;&quot;</td><td>false</td><td>0.0</td><td>0.0</td><td>0.0</td><td>0.0</td><td>0</td><td>0</td></tr><tr><td>&quot;Player 6&quot;</td><td>0</td><td>0</td><td>0</td><td>0</td><td>&quot;&quot;</td><td>false</td><td>0.0</td><td>0.0</td><td>0.0</td><td>0.0</td><td>0</td><td>0</td></tr><tr><td>&quot;Player 7&quot;</td><td>0</td><td>0</td><td>0</td><td>0</td><td>&quot;&quot;</td><td>false</td><td>0.0</td><td>0.0</td><td>0.0</td><td>0.0</td><td>0</td><td>0</td></tr><tr><td>&quot;Player 8&quot;</td><td>0</td><td>0</td><td>0</td><td>0</td><td>&quot;&quot;</td><td>false</td><td>0.0</td><td>0.0</td><td>0.0</td><td>0.0</td><td>0</td><td>0</td></tr><tr><td>&quot;Player 9&quot;</td><td>0</td><td>0</td><td>0</td><td>0</td><td>&quot;&quot;</td><td>false</td><td>0.0</td><td>0.0</td><td>0.0</td><td>0.0</td><td>0</td><td>0</td></tr></tbody></table></div>"
      ],
      "text/plain": [
       "shape: (10, 13)\n",
       "┌──────────┬───────────┬──────────┬───────────┬───┬─────┬─────┬─────────┬──────────┐\n",
       "│ player   ┆ match_pts ┆ game_pts ┆ match_tot ┆ … ┆ omw ┆ ogw ┆ grp_idx ┆ pd_count │\n",
       "│ ---      ┆ ---       ┆ ---      ┆ ---       ┆   ┆ --- ┆ --- ┆ ---     ┆ ---      │\n",
       "│ str      ┆ i64       ┆ i64      ┆ i64       ┆   ┆ f64 ┆ f64 ┆ i64     ┆ i64      │\n",
       "╞══════════╪═══════════╪══════════╪═══════════╪═══╪═════╪═════╪═════════╪══════════╡\n",
       "│ Player 0 ┆ 0         ┆ 0        ┆ 0         ┆ … ┆ 0.0 ┆ 0.0 ┆ 0       ┆ 0        │\n",
       "│ Player 1 ┆ 0         ┆ 0        ┆ 0         ┆ … ┆ 0.0 ┆ 0.0 ┆ 0       ┆ 0        │\n",
       "│ Player 2 ┆ 0         ┆ 0        ┆ 0         ┆ … ┆ 0.0 ┆ 0.0 ┆ 0       ┆ 0        │\n",
       "│ Player 3 ┆ 0         ┆ 0        ┆ 0         ┆ … ┆ 0.0 ┆ 0.0 ┆ 0       ┆ 0        │\n",
       "│ …        ┆ …         ┆ …        ┆ …         ┆ … ┆ …   ┆ …   ┆ …       ┆ …        │\n",
       "│ Player 6 ┆ 0         ┆ 0        ┆ 0         ┆ … ┆ 0.0 ┆ 0.0 ┆ 0       ┆ 0        │\n",
       "│ Player 7 ┆ 0         ┆ 0        ┆ 0         ┆ … ┆ 0.0 ┆ 0.0 ┆ 0       ┆ 0        │\n",
       "│ Player 8 ┆ 0         ┆ 0        ┆ 0         ┆ … ┆ 0.0 ┆ 0.0 ┆ 0       ┆ 0        │\n",
       "│ Player 9 ┆ 0         ┆ 0        ┆ 0         ┆ … ┆ 0.0 ┆ 0.0 ┆ 0       ┆ 0        │\n",
       "└──────────┴───────────┴──────────┴───────────┴───┴─────┴─────┴─────────┴──────────┘"
      ]
     },
     "execution_count": 140,
     "metadata": {},
     "output_type": "execute_result"
    }
   ],
   "source": [
    "players = [\"Esben\",\n",
    "          \"Jeppe\",\n",
    "          \"Halfdan\",\n",
    "          \"Asger\",\n",
    "          \"Bakke\"]\n",
    "players = [\"Player \" + str(i) for i in range(10)]\n",
    "if (len(players) > len(set(players))):\n",
    "    raise ValueError('There are non-unique players.')\n",
    "elif (\"Bye\" in players):\n",
    "    raise ValueError('You have listed \"Bye\" as a player. Please don\\'t.')\n",
    "\n",
    "players_df = pl.DataFrame({\"player\": players, \"match_pts\": 0, \"game_pts\": 0, \"match_tot\": 0, \"game_tot\": 0, \"opponents\": \"\", \"dropped\": False, \"mw\": 0., \"gw\": 0., \"omw\": 0., \"ogw\": 0., \"grp_idx\": 0, \"pd_count\": 0})\n",
    "players_df"
   ]
  },
  {
   "cell_type": "code",
   "execution_count": 124,
   "id": "376ad1df-a210-4fbe-b81e-f512bb83def9",
   "metadata": {
    "tags": []
   },
   "outputs": [],
   "source": [
    "def pairings(pair_players):\n",
    "    \n",
    "    #Remove dropped players from pairing considerations\n",
    "    pair_players = pair_players.filter(pl.col(\"dropped\") == False)\n",
    "    \n",
    "    #If a bye needs to be assigned, do so first.\n",
    "    has_bye = len(pair_players) % 2 == 1\n",
    "    \n",
    "    if (has_bye):\n",
    "        #Find all players with the lowest number of byes (usually 0) and the highest group index in this group (lowest number of match points, poorest [o](m/g)w)\n",
    "        bye_players = pair_players.with_columns(\n",
    "            bye_count = pl.col(\"opponents\").str.count_match(\"Bye\")\n",
    "        ).filter(\n",
    "            pl.col(\"bye_count\") == pl.col(\"bye_count\").min()\n",
    "        ).filter(\n",
    "            pl.col(\"grp_idx\") == pl.col(\"grp_idx\").max()\n",
    "        )\n",
    "        \n",
    "        bye_pair = bye_players.sample(1).select(\"player\").vstack(\n",
    "                pl.DataFrame({\"player\": \"Bye\"})\n",
    "            ).with_columns(\n",
    "                match = 0,\n",
    "                play_draw = pl.Series([\"play\", \"draw\"])\n",
    "            )\n",
    "        \n",
    "        pair_players = pair_players.join(bye_pair, on = \"player\", how = \"anti\").with_columns(forbidden = pl.lit(\"\"))\n",
    "                \n",
    "    pairs_n = len(pair_players)/2\n",
    "    \n",
    "    pairs = pair_players.select(\"player\").with_columns(\n",
    "        match = 0\n",
    "    ).clear()\n",
    "    \n",
    "    #Extract list of opponents and assign a weight based on rank group\n",
    "    pair_players = pair_players.with_columns(\n",
    "        oppo_list = pl.col(\"opponents\").str.split(\"//\"),\n",
    "        #grp_pts = 1/(1+pl.col(\"grp_idx\")),\n",
    "        grp_pts = 1 + pl.col(\"grp_idx\").max() - pl.col(\"grp_idx\")\n",
    "    )\n",
    "    \n",
    "    graph_players = dict(zip(pair_players[\"player\"].to_list(), pair_players[\"oppo_list\"].to_list()))\n",
    "    graph_points = dict(zip(pair_players[\"player\"].to_list(), pair_players[\"grp_pts\"].to_list()))\n",
    "\n",
    "    bracketGraph = nx.Graph()\n",
    "    bracketGraph.add_nodes_from(graph_players)\n",
    "    \n",
    "    #Sets up possible pairs. The following command becomes slow with > 100 participants. Consider splitting it into piece when groups are big.\n",
    "    for player in bracketGraph.nodes():\n",
    "        for opponent in bracketGraph.nodes():\n",
    "            if opponent not in graph_players[player] and player != opponent:\n",
    "                #wgt = random.randint(1, 9) #randomizes pairings. Not necessarily desirable.\n",
    "                wgt = 1 + (graph_points[player] + graph_points[opponent])**2\n",
    "                bracketGraph.add_edge(player, opponent, weight=wgt)\n",
    "    \n",
    "    #Core pairing command. \n",
    "    pairings_bg = nx.max_weight_matching(bracketGraph)\n",
    "    \n",
    "    #Translate pairings from dict to dataframe and add match number\n",
    "    for idx, pair_bg in enumerate(pairings_bg):\n",
    "        pair_df = pl.DataFrame({\"player\": pair_bg, \"match\": idx+1}).with_columns(\n",
    "            match = pl.col(\"match\").cast(pl.Int32),\n",
    "        )\n",
    "        pairs = pairs.vstack(pair_df)\n",
    "        \n",
    "    #Figure out if the players have been on the play an unequal number of times. If so, give it to whoever has the fewest and if not assign random play/draw.\n",
    "    pd_pairs = pairs.join(\n",
    "        pair_players.select(\"player\", \"pd_count\"), on = \"player\", how = \"left\"\n",
    "    ).groupby(\"match\").agg([pl.col(\"player\"), pl.col(\"pd_count\")]).with_columns(\n",
    "        play_draw = pl.when(pl.col(\"pd_count\").list.first() > pl.col(\"pd_count\").list.last()).then(pl.lit([[\"draw\", \"play\"]]))\n",
    "        .when(pl.col(\"pd_count\").list.first() < pl.col(\"pd_count\").list.last()).then(pl.lit([[\"play\", \"draw\"]]))\n",
    "        .otherwise(pl.lit([random.sample([\"play\", \"draw\"], 2)]))\n",
    "    ).drop(\"pd_count\").explode([\"player\", \"play_draw\"])\n",
    "    \n",
    "    pairs = pairs.join(\n",
    "        pd_pairs, on = [\"player\", \"match\"], how = \"left\"\n",
    "    )\n",
    "    \n",
    "    if (has_bye):\n",
    "        pairs = bye_pair.vstack(pairs)\n",
    "            \n",
    "    pairs = pairs.pivot(\n",
    "        values=\"player\", index=\"match\", columns=\"play_draw\", aggregate_function=\"first\"        \n",
    "    ).select([\"match\", \"play\", \"draw\"])\n",
    "    \n",
    "    return pairs"
   ]
  },
  {
   "cell_type": "code",
   "execution_count": 141,
   "id": "e66f454d-66f9-44ec-8167-7880265808f3",
   "metadata": {
    "tags": []
   },
   "outputs": [
    {
     "data": {
      "text/html": [
       "<div><style>\n",
       ".dataframe > thead > tr > th,\n",
       ".dataframe > tbody > tr > td {\n",
       "  text-align: right;\n",
       "}\n",
       "</style>\n",
       "<small>shape: (5, 3)</small><table border=\"1\" class=\"dataframe\"><thead><tr><th>match</th><th>play</th><th>draw</th></tr><tr><td>i32</td><td>str</td><td>str</td></tr></thead><tbody><tr><td>1</td><td>&quot;Player 1&quot;</td><td>&quot;Player 8&quot;</td></tr><tr><td>2</td><td>&quot;Player 3&quot;</td><td>&quot;Player 6&quot;</td></tr><tr><td>3</td><td>&quot;Player 2&quot;</td><td>&quot;Player 7&quot;</td></tr><tr><td>4</td><td>&quot;Player 0&quot;</td><td>&quot;Player 9&quot;</td></tr><tr><td>5</td><td>&quot;Player 4&quot;</td><td>&quot;Player 5&quot;</td></tr></tbody></table></div>"
      ],
      "text/plain": [
       "shape: (5, 3)\n",
       "┌───────┬──────────┬──────────┐\n",
       "│ match ┆ play     ┆ draw     │\n",
       "│ ---   ┆ ---      ┆ ---      │\n",
       "│ i32   ┆ str      ┆ str      │\n",
       "╞═══════╪══════════╪══════════╡\n",
       "│ 1     ┆ Player 1 ┆ Player 8 │\n",
       "│ 2     ┆ Player 3 ┆ Player 6 │\n",
       "│ 3     ┆ Player 2 ┆ Player 7 │\n",
       "│ 4     ┆ Player 0 ┆ Player 9 │\n",
       "│ 5     ┆ Player 4 ┆ Player 5 │\n",
       "└───────┴──────────┴──────────┘"
      ]
     },
     "execution_count": 141,
     "metadata": {},
     "output_type": "execute_result"
    }
   ],
   "source": [
    "pairings_1 = pairings(players_df)\n",
    "pairings_1"
   ]
  },
  {
   "cell_type": "code",
   "execution_count": 175,
   "id": "6cba1c66-e0b5-4647-8f57-785dd7c4264c",
   "metadata": {
    "tags": []
   },
   "outputs": [
    {
     "data": {
      "text/html": [
       "<div><style>\n",
       ".dataframe > thead > tr > th,\n",
       ".dataframe > tbody > tr > td {\n",
       "  text-align: right;\n",
       "}\n",
       "</style>\n",
       "<small>shape: (10, 13)</small><table border=\"1\" class=\"dataframe\"><thead><tr><th>player</th><th>match_pts</th><th>game_pts</th><th>match_tot</th><th>game_tot</th><th>opponents</th><th>dropped</th><th>mw</th><th>pd_count</th><th>gw</th><th>omw</th><th>ogw</th><th>grp_idx</th></tr><tr><td>str</td><td>i64</td><td>i64</td><td>i64</td><td>i64</td><td>str</td><td>bool</td><td>f64</td><td>i64</td><td>f64</td><td>f64</td><td>f64</td><td>i64</td></tr></thead><tbody><tr><td>&quot;Player 2&quot;</td><td>9</td><td>18</td><td>3</td><td>8</td><td>&quot;Player 7//Play…</td><td>false</td><td>100.0</td><td>1</td><td>75.0</td><td>53.703704</td><td>50.216049</td><td>0</td></tr><tr><td>&quot;Player 9&quot;</td><td>6</td><td>15</td><td>3</td><td>8</td><td>&quot;Player 0//Play…</td><td>false</td><td>66.666667</td><td>2</td><td>62.5</td><td>70.37037</td><td>64.68254</td><td>1</td></tr><tr><td>&quot;Player 6&quot;</td><td>6</td><td>15</td><td>3</td><td>7</td><td>&quot;Player 3//Play…</td><td>false</td><td>66.666667</td><td>1</td><td>71.428571</td><td>55.555556</td><td>48.611111</td><td>2</td></tr><tr><td>&quot;Player 8&quot;</td><td>6</td><td>12</td><td>3</td><td>8</td><td>&quot;Player 1//Play…</td><td>false</td><td>66.666667</td><td>1</td><td>50.0</td><td>44.333333</td><td>51.47619</td><td>3</td></tr><tr><td>&quot;Player 5&quot;</td><td>4</td><td>13</td><td>3</td><td>9</td><td>&quot;Player 4//Play…</td><td>false</td><td>44.444444</td><td>2</td><td>48.148148</td><td>59.259259</td><td>57.539683</td><td>4</td></tr><tr><td>&quot;Player 0&quot;</td><td>4</td><td>10</td><td>3</td><td>7</td><td>&quot;Player 9//Play…</td><td>false</td><td>44.444444</td><td>2</td><td>47.619048</td><td>48.148148</td><td>47.993827</td><td>5</td></tr><tr><td>&quot;Player 7&quot;</td><td>3</td><td>6</td><td>2</td><td>5</td><td>&quot;Player 2//Play…</td><td>true</td><td>50.0</td><td>null</td><td>40.0</td><td>66.5</td><td>54.0</td><td>6</td></tr><tr><td>&quot;Player 3&quot;</td><td>3</td><td>6</td><td>3</td><td>6</td><td>&quot;Player 6//Play…</td><td>false</td><td>33.333333</td><td>2</td><td>33.333333</td><td>55.555556</td><td>59.52381</td><td>7</td></tr><tr><td>&quot;Player 4&quot;</td><td>3</td><td>12</td><td>3</td><td>8</td><td>&quot;Player 5//Play…</td><td>false</td><td>33.333333</td><td>1</td><td>50.0</td><td>48.037037</td><td>43.716049</td><td>8</td></tr><tr><td>&quot;Player 1&quot;</td><td>0</td><td>6</td><td>3</td><td>8</td><td>&quot;Player 8//Play…</td><td>false</td><td>33.0</td><td>2</td><td>33.0</td><td>50.0</td><td>46.666667</td><td>9</td></tr></tbody></table></div>"
      ],
      "text/plain": [
       "shape: (10, 13)\n",
       "┌──────────┬───────────┬──────────┬───────────┬───┬───────────┬───────────┬───────────┬─────────┐\n",
       "│ player   ┆ match_pts ┆ game_pts ┆ match_tot ┆ … ┆ gw        ┆ omw       ┆ ogw       ┆ grp_idx │\n",
       "│ ---      ┆ ---       ┆ ---      ┆ ---       ┆   ┆ ---       ┆ ---       ┆ ---       ┆ ---     │\n",
       "│ str      ┆ i64       ┆ i64      ┆ i64       ┆   ┆ f64       ┆ f64       ┆ f64       ┆ i64     │\n",
       "╞══════════╪═══════════╪══════════╪═══════════╪═══╪═══════════╪═══════════╪═══════════╪═════════╡\n",
       "│ Player 2 ┆ 9         ┆ 18       ┆ 3         ┆ … ┆ 75.0      ┆ 53.703704 ┆ 50.216049 ┆ 0       │\n",
       "│ Player 9 ┆ 6         ┆ 15       ┆ 3         ┆ … ┆ 62.5      ┆ 70.37037  ┆ 64.68254  ┆ 1       │\n",
       "│ Player 6 ┆ 6         ┆ 15       ┆ 3         ┆ … ┆ 71.428571 ┆ 55.555556 ┆ 48.611111 ┆ 2       │\n",
       "│ Player 8 ┆ 6         ┆ 12       ┆ 3         ┆ … ┆ 50.0      ┆ 44.333333 ┆ 51.47619  ┆ 3       │\n",
       "│ …        ┆ …         ┆ …        ┆ …         ┆ … ┆ …         ┆ …         ┆ …         ┆ …       │\n",
       "│ Player 7 ┆ 3         ┆ 6        ┆ 2         ┆ … ┆ 40.0      ┆ 66.5      ┆ 54.0      ┆ 6       │\n",
       "│ Player 3 ┆ 3         ┆ 6        ┆ 3         ┆ … ┆ 33.333333 ┆ 55.555556 ┆ 59.52381  ┆ 7       │\n",
       "│ Player 4 ┆ 3         ┆ 12       ┆ 3         ┆ … ┆ 50.0      ┆ 48.037037 ┆ 43.716049 ┆ 8       │\n",
       "│ Player 1 ┆ 0         ┆ 6        ┆ 3         ┆ … ┆ 33.0      ┆ 50.0      ┆ 46.666667 ┆ 9       │\n",
       "└──────────┴───────────┴──────────┴───────────┴───┴───────────┴───────────┴───────────┴─────────┘"
      ]
     },
     "execution_count": 175,
     "metadata": {},
     "output_type": "execute_result"
    }
   ],
   "source": [
    "def results(players_df, pairings_df, result_list = None, drop_list = None):\n",
    "    \n",
    "    #TODO: Accept manual results\n",
    "    if (result_list is None):\n",
    "        result_list = input(\"How did it go? \")\n",
    "        \n",
    "    if (len(pairings_df.filter(pl.col(\"play\") == \"Bye\")) > 0):\n",
    "        result_list = [\"0-2\"] + result_list\n",
    "    elif (len(pairings_df.filter(pl.col(\"draw\") == \"Bye\")) > 0):\n",
    "        result_list = [\"2-0\"] + result_list\n",
    "    \n",
    "    #Combine results_list with pairings_df to create a dataframe with results from each match and assign match points\n",
    "    result_df = pl.DataFrame({\"result\": result_list}).with_columns(\n",
    "        wins = pl.col(\"result\").str.split_exact(\"-\", 2)\n",
    "    ).unnest(\"wins\").rename(\n",
    "        {\"field_0\": \"play_wins\", \"field_1\": \"draw_wins\", \"field_2\": \"games_drawn\"}\n",
    "    ).with_columns(\n",
    "        play_wins = pl.col(\"play_wins\").cast(pl.Int32),\n",
    "        draw_wins = pl.col(\"draw_wins\").cast(pl.Int32),\n",
    "        games_drawn = pl.col(\"games_drawn\").cast(pl.Int32),\n",
    "        play_points = pl.when(pl.col(\"play_wins\") > pl.col(\"draw_wins\")).then(pl.lit(3))\\\n",
    "            .when(pl.col(\"play_wins\") == pl.col(\"draw_wins\")).then(pl.lit(1))\\\n",
    "            .otherwise(pl.lit(0)),\n",
    "        draw_points = pl.when(pl.col(\"draw_wins\") > pl.col(\"play_wins\")).then(pl.lit(3))\\\n",
    "            .when(pl.col(\"draw_wins\") == pl.col(\"play_wins\")).then(pl.lit(1))\\\n",
    "            .otherwise(pl.lit(0))\n",
    "    ).fill_null(0).with_columns(\n",
    "        total_games = pl.col(\"play_wins\") + pl.col(\"draw_wins\") + pl.col(\"games_drawn\")\n",
    "    )\n",
    "    \n",
    "    result_df = pairings_df.hstack(result_df)\n",
    "    \n",
    "    #pivot the match dataframe into a player dataframe.\n",
    "    play_df = result_df.select(pl.col(\"^play_.*$\"), player = \"play\", new_opponent = \"draw\", new_draws = \"games_drawn\", new_games = \"total_games\")\n",
    "    draw_df = result_df.select(pl.col(\"^draw_.*$\"), player = \"draw\", new_opponent = \"play\", new_draws = \"games_drawn\", new_games = \"total_games\")\n",
    "\n",
    "    play_df.columns = list(map(lambda x: x.replace(\"play_\", \"new_\"), play_df.columns))\n",
    "    draw_df.columns = list(map(lambda x: x.replace(\"draw_\", \"new_\"), draw_df.columns))\n",
    "    \n",
    "    update_df = play_df.vstack(draw_df).filter(pl.col(\"player\") != \"Bye\")\n",
    "    \n",
    "    #Pull dropped players out\n",
    "    dropped_df = players_df.filter(pl.col(\"dropped\")).drop([\"gw\", \"omw\", \"ogw\", \"grp_idx\"])\n",
    "    \n",
    "    #Update the player dataframe based on the match information and exclude dropped players.\n",
    "    players_df = players_df.filter(~pl.col(\"dropped\")).drop([\"gw\", \"omw\", \"ogw\", \"grp_idx\"]).join(update_df, on = \"player\", how = \"left\").with_columns(\n",
    "        match_pts = pl.col(\"match_pts\") + pl.col(\"new_points\"),\n",
    "        game_pts = pl.col(\"game_pts\") + 3*pl.col(\"new_wins\") + pl.col(\"new_draws\"),\n",
    "        match_tot = pl.col(\"match_tot\") + pl.lit(1),\n",
    "        game_tot = pl.col(\"game_tot\") + pl.col(\"new_games\"),\n",
    "        opponents = (pl.col(\"opponents\") + pl.lit(\"//\") + pl.col(\"new_opponent\")).str.replace(\"^//\", \"\")\n",
    "    ).select(pl.col(\"^[^n].*$\"))\n",
    "    \n",
    "    #Return the dropped players to the dataframe\n",
    "    players_df = players_df.vstack(dropped_df).with_columns(\n",
    "        oppo_struct = pl.col(\"opponents\").str.split(\"//\").list.to_struct()\n",
    "    ).with_columns(\n",
    "        mw = 100*pl.col(\"match_pts\")/(3*pl.col(\"match_tot\")),\n",
    "        gw = 100*pl.col(\"game_pts\")/(3*pl.col(\"game_tot\"))\n",
    "    ).with_columns(\n",
    "        mw = pl.when(pl.col(\"mw\")>= 33).then(pl.col(\"mw\")).otherwise(33),\n",
    "        gw = pl.when(pl.col(\"gw\")>= 33).then(pl.col(\"gw\")).otherwise(33)\n",
    "    )\n",
    "\n",
    "    #Determine opponent match/game win percentages.\n",
    "    player_opponent_df = players_df.unnest(\"oppo_struct\").select(pl.col(\"^field.*$\"), \"player\").melt(\n",
    "        id_vars = \"player\", value_vars = None, value_name = \"opponent\"\n",
    "    ).drop(\"variable\").join(\n",
    "        players_df.select([\"player\", \"mw\", \"gw\"]), left_on = \"opponent\", right_on = \"player\", how = \"inner\"\n",
    "    ).groupby(\"player\").mean().drop(\"opponent\").rename(\n",
    "        {\"mw\": \"omw\", \"gw\": \"ogw\"}\n",
    "    )\n",
    "    \n",
    "    #Determine play/draw information for each player\n",
    "    pd_players_df = pairings_df.drop(\"match\").melt(\n",
    "        variable_name = \"play_draw\",\n",
    "        value_name = \"player\"\n",
    "    ).with_columns(\n",
    "        pd_chg = pl.when(pl.col(\"play_draw\") == \"play\").then(1).otherwise(0)\n",
    "    ).drop(\"play_draw\")\n",
    "\n",
    "    #Join opponent match/game win% and play/draw information onto player dataframe\n",
    "    players_df = players_df.join(\n",
    "        player_opponent_df, on = \"player\", how = \"left\"\n",
    "    ).fill_null(33).sort([\"match_pts\", \"omw\", \"gw\", \"ogw\"], descending = True).drop(\"oppo_struct\").with_columns(\n",
    "        dropped = pl.when(pl.col(\"player\").is_in(drop_list)).then(pl.lit(True)).otherwise(pl.col(\"dropped\"))\n",
    "    ).join(\n",
    "        pd_players_df, on = \"player\", how = \"left\"\n",
    "    ).with_columns(\n",
    "        pd_count = pl.col(\"pd_count\") + pl.col(\"pd_chg\")\n",
    "    ).drop(\"pd_chg\")\n",
    "    \n",
    "    #Create an index that encapsulates ranking information.\n",
    "    grp_idx = []\n",
    "    for idx, df in enumerate(players_df.groupby([\"match_pts\", \"omw\", \"gw\", \"ogw\"], maintain_order = True)):\n",
    "        grp_idx = grp_idx + [idx] * len(df[1])\n",
    "    players_df = players_df.hstack(pl.DataFrame({\"grp_idx\": grp_idx}))\n",
    "\n",
    "    return players_df\n",
    "\n",
    "results(players_df_2, pairings_3, rand_res(4))"
   ]
  },
  {
   "cell_type": "code",
   "execution_count": 144,
   "id": "96bb316f-abe9-4335-af10-ea35307ed581",
   "metadata": {
    "tags": []
   },
   "outputs": [
    {
     "name": "stdout",
     "output_type": "stream",
     "text": [
      "shape: (5, 3)\n",
      "┌───────┬──────────┬──────────┐\n",
      "│ match ┆ play     ┆ draw     │\n",
      "│ ---   ┆ ---      ┆ ---      │\n",
      "│ i32   ┆ str      ┆ str      │\n",
      "╞═══════╪══════════╪══════════╡\n",
      "│ 1     ┆ Player 1 ┆ Player 8 │\n",
      "│ 2     ┆ Player 3 ┆ Player 6 │\n",
      "│ 3     ┆ Player 2 ┆ Player 7 │\n",
      "│ 4     ┆ Player 0 ┆ Player 9 │\n",
      "│ 5     ┆ Player 4 ┆ Player 5 │\n",
      "└───────┴──────────┴──────────┘\n"
     ]
    },
    {
     "data": {
      "text/html": [
       "<div><style>\n",
       ".dataframe > thead > tr > th,\n",
       ".dataframe > tbody > tr > td {\n",
       "  text-align: right;\n",
       "}\n",
       "</style>\n",
       "<small>shape: (10, 13)</small><table border=\"1\" class=\"dataframe\"><thead><tr><th>player</th><th>match_pts</th><th>game_pts</th><th>match_tot</th><th>game_tot</th><th>opponents</th><th>dropped</th><th>mw</th><th>pd_count</th><th>gw</th><th>omw</th><th>ogw</th><th>grp_idx</th></tr><tr><td>str</td><td>i64</td><td>i64</td><td>i64</td><td>i64</td><td>str</td><td>bool</td><td>f64</td><td>i64</td><td>f64</td><td>f64</td><td>f64</td><td>i64</td></tr></thead><tbody><tr><td>&quot;Player 2&quot;</td><td>3</td><td>6</td><td>1</td><td>2</td><td>&quot;Player 7&quot;</td><td>false</td><td>100.0</td><td>1</td><td>100.0</td><td>33.0</td><td>33.0</td><td>0</td></tr><tr><td>&quot;Player 6&quot;</td><td>3</td><td>6</td><td>1</td><td>2</td><td>&quot;Player 3&quot;</td><td>false</td><td>100.0</td><td>0</td><td>100.0</td><td>33.0</td><td>33.0</td><td>0</td></tr><tr><td>&quot;Player 9&quot;</td><td>3</td><td>6</td><td>1</td><td>2</td><td>&quot;Player 0&quot;</td><td>false</td><td>100.0</td><td>0</td><td>100.0</td><td>33.0</td><td>33.0</td><td>0</td></tr><tr><td>&quot;Player 5&quot;</td><td>3</td><td>6</td><td>1</td><td>3</td><td>&quot;Player 4&quot;</td><td>false</td><td>100.0</td><td>0</td><td>66.666667</td><td>33.0</td><td>33.333333</td><td>1</td></tr><tr><td>&quot;Player 8&quot;</td><td>3</td><td>6</td><td>1</td><td>3</td><td>&quot;Player 1&quot;</td><td>false</td><td>100.0</td><td>0</td><td>66.666667</td><td>33.0</td><td>33.333333</td><td>1</td></tr><tr><td>&quot;Player 1&quot;</td><td>0</td><td>3</td><td>1</td><td>3</td><td>&quot;Player 8&quot;</td><td>false</td><td>33.0</td><td>1</td><td>33.333333</td><td>100.0</td><td>66.666667</td><td>2</td></tr><tr><td>&quot;Player 4&quot;</td><td>0</td><td>3</td><td>1</td><td>3</td><td>&quot;Player 5&quot;</td><td>false</td><td>33.0</td><td>1</td><td>33.333333</td><td>100.0</td><td>66.666667</td><td>2</td></tr><tr><td>&quot;Player 0&quot;</td><td>0</td><td>0</td><td>1</td><td>2</td><td>&quot;Player 9&quot;</td><td>false</td><td>33.0</td><td>1</td><td>33.0</td><td>100.0</td><td>100.0</td><td>3</td></tr><tr><td>&quot;Player 3&quot;</td><td>0</td><td>0</td><td>1</td><td>2</td><td>&quot;Player 6&quot;</td><td>false</td><td>33.0</td><td>1</td><td>33.0</td><td>100.0</td><td>100.0</td><td>3</td></tr><tr><td>&quot;Player 7&quot;</td><td>0</td><td>0</td><td>1</td><td>2</td><td>&quot;Player 2&quot;</td><td>false</td><td>33.0</td><td>0</td><td>33.0</td><td>100.0</td><td>100.0</td><td>3</td></tr></tbody></table></div>"
      ],
      "text/plain": [
       "shape: (10, 13)\n",
       "┌──────────┬───────────┬──────────┬───────────┬───┬───────────┬───────┬───────────┬─────────┐\n",
       "│ player   ┆ match_pts ┆ game_pts ┆ match_tot ┆ … ┆ gw        ┆ omw   ┆ ogw       ┆ grp_idx │\n",
       "│ ---      ┆ ---       ┆ ---      ┆ ---       ┆   ┆ ---       ┆ ---   ┆ ---       ┆ ---     │\n",
       "│ str      ┆ i64       ┆ i64      ┆ i64       ┆   ┆ f64       ┆ f64   ┆ f64       ┆ i64     │\n",
       "╞══════════╪═══════════╪══════════╪═══════════╪═══╪═══════════╪═══════╪═══════════╪═════════╡\n",
       "│ Player 2 ┆ 3         ┆ 6        ┆ 1         ┆ … ┆ 100.0     ┆ 33.0  ┆ 33.0      ┆ 0       │\n",
       "│ Player 6 ┆ 3         ┆ 6        ┆ 1         ┆ … ┆ 100.0     ┆ 33.0  ┆ 33.0      ┆ 0       │\n",
       "│ Player 9 ┆ 3         ┆ 6        ┆ 1         ┆ … ┆ 100.0     ┆ 33.0  ┆ 33.0      ┆ 0       │\n",
       "│ Player 5 ┆ 3         ┆ 6        ┆ 1         ┆ … ┆ 66.666667 ┆ 33.0  ┆ 33.333333 ┆ 1       │\n",
       "│ …        ┆ …         ┆ …        ┆ …         ┆ … ┆ …         ┆ …     ┆ …         ┆ …       │\n",
       "│ Player 4 ┆ 0         ┆ 3        ┆ 1         ┆ … ┆ 33.333333 ┆ 100.0 ┆ 66.666667 ┆ 2       │\n",
       "│ Player 0 ┆ 0         ┆ 0        ┆ 1         ┆ … ┆ 33.0      ┆ 100.0 ┆ 100.0     ┆ 3       │\n",
       "│ Player 3 ┆ 0         ┆ 0        ┆ 1         ┆ … ┆ 33.0      ┆ 100.0 ┆ 100.0     ┆ 3       │\n",
       "│ Player 7 ┆ 0         ┆ 0        ┆ 1         ┆ … ┆ 33.0      ┆ 100.0 ┆ 100.0     ┆ 3       │\n",
       "└──────────┴───────────┴──────────┴───────────┴───┴───────────┴───────┴───────────┴─────────┘"
      ]
     },
     "execution_count": 144,
     "metadata": {},
     "output_type": "execute_result"
    }
   ],
   "source": [
    "players_df_1 = results(players_df, pairings_1, rand_res(5))\n",
    "pairings_2 = pairings(players_df_1)\n",
    "print(pairings_1)\n",
    "players_df_1"
   ]
  },
  {
   "cell_type": "code",
   "execution_count": 176,
   "id": "eb7ff388-7e1b-4228-af4e-2205055ed62d",
   "metadata": {
    "tags": []
   },
   "outputs": [
    {
     "name": "stdout",
     "output_type": "stream",
     "text": [
      "shape: (5, 3)\n",
      "┌───────┬──────────┬──────────┐\n",
      "│ match ┆ play     ┆ draw     │\n",
      "│ ---   ┆ ---      ┆ ---      │\n",
      "│ i32   ┆ str      ┆ str      │\n",
      "╞═══════╪══════════╪══════════╡\n",
      "│ 1     ┆ Player 7 ┆ Player 1 │\n",
      "│ 2     ┆ Player 8 ┆ Player 4 │\n",
      "│ 3     ┆ Player 5 ┆ Player 2 │\n",
      "│ 4     ┆ Player 0 ┆ Player 3 │\n",
      "│ 5     ┆ Player 9 ┆ Player 6 │\n",
      "└───────┴──────────┴──────────┘\n"
     ]
    },
    {
     "data": {
      "text/html": [
       "<div><style>\n",
       ".dataframe > thead > tr > th,\n",
       ".dataframe > tbody > tr > td {\n",
       "  text-align: right;\n",
       "}\n",
       "</style>\n",
       "<small>shape: (10, 13)</small><table border=\"1\" class=\"dataframe\"><thead><tr><th>player</th><th>match_pts</th><th>game_pts</th><th>match_tot</th><th>game_tot</th><th>opponents</th><th>dropped</th><th>mw</th><th>pd_count</th><th>gw</th><th>omw</th><th>ogw</th><th>grp_idx</th></tr><tr><td>str</td><td>i64</td><td>i64</td><td>i64</td><td>i64</td><td>str</td><td>bool</td><td>f64</td><td>i64</td><td>f64</td><td>f64</td><td>f64</td><td>i64</td></tr></thead><tbody><tr><td>&quot;Player 2&quot;</td><td>6</td><td>12</td><td>2</td><td>5</td><td>&quot;Player 7//Play…</td><td>false</td><td>100.0</td><td>1</td><td>80.0</td><td>50.0</td><td>45.0</td><td>0</td></tr><tr><td>&quot;Player 6&quot;</td><td>6</td><td>12</td><td>2</td><td>5</td><td>&quot;Player 3//Play…</td><td>false</td><td>100.0</td><td>0</td><td>80.0</td><td>41.5</td><td>46.5</td><td>1</td></tr><tr><td>&quot;Player 8&quot;</td><td>6</td><td>12</td><td>2</td><td>5</td><td>&quot;Player 1//Play…</td><td>false</td><td>100.0</td><td>1</td><td>80.0</td><td>33.0</td><td>33.166667</td><td>2</td></tr><tr><td>&quot;Player 9&quot;</td><td>3</td><td>9</td><td>2</td><td>5</td><td>&quot;Player 0//Play…</td><td>false</td><td>50.0</td><td>1</td><td>60.0</td><td>75.0</td><td>65.0</td><td>3</td></tr><tr><td>&quot;Player 5&quot;</td><td>3</td><td>9</td><td>2</td><td>6</td><td>&quot;Player 4//Play…</td><td>false</td><td>50.0</td><td>1</td><td>50.0</td><td>66.5</td><td>56.5</td><td>4</td></tr><tr><td>&quot;Player 7&quot;</td><td>3</td><td>6</td><td>2</td><td>5</td><td>&quot;Player 2//Play…</td><td>true</td><td>50.0</td><td>1</td><td>40.0</td><td>66.5</td><td>56.666667</td><td>5</td></tr><tr><td>&quot;Player 0&quot;</td><td>3</td><td>6</td><td>2</td><td>4</td><td>&quot;Player 9//Play…</td><td>false</td><td>50.0</td><td>2</td><td>50.0</td><td>41.5</td><td>46.5</td><td>6</td></tr><tr><td>&quot;Player 1&quot;</td><td>0</td><td>6</td><td>2</td><td>6</td><td>&quot;Player 8//Play…</td><td>false</td><td>33.0</td><td>1</td><td>33.333333</td><td>75.0</td><td>60.0</td><td>7</td></tr><tr><td>&quot;Player 4&quot;</td><td>0</td><td>3</td><td>2</td><td>5</td><td>&quot;Player 5//Play…</td><td>false</td><td>33.0</td><td>1</td><td>33.0</td><td>75.0</td><td>65.0</td><td>8</td></tr><tr><td>&quot;Player 3&quot;</td><td>0</td><td>0</td><td>2</td><td>4</td><td>&quot;Player 6//Play…</td><td>false</td><td>33.0</td><td>1</td><td>33.0</td><td>75.0</td><td>65.0</td><td>8</td></tr></tbody></table></div>"
      ],
      "text/plain": [
       "shape: (10, 13)\n",
       "┌──────────┬───────────┬──────────┬───────────┬───┬───────────┬──────┬───────────┬─────────┐\n",
       "│ player   ┆ match_pts ┆ game_pts ┆ match_tot ┆ … ┆ gw        ┆ omw  ┆ ogw       ┆ grp_idx │\n",
       "│ ---      ┆ ---       ┆ ---      ┆ ---       ┆   ┆ ---       ┆ ---  ┆ ---       ┆ ---     │\n",
       "│ str      ┆ i64       ┆ i64      ┆ i64       ┆   ┆ f64       ┆ f64  ┆ f64       ┆ i64     │\n",
       "╞══════════╪═══════════╪══════════╪═══════════╪═══╪═══════════╪══════╪═══════════╪═════════╡\n",
       "│ Player 2 ┆ 6         ┆ 12       ┆ 2         ┆ … ┆ 80.0      ┆ 50.0 ┆ 45.0      ┆ 0       │\n",
       "│ Player 6 ┆ 6         ┆ 12       ┆ 2         ┆ … ┆ 80.0      ┆ 41.5 ┆ 46.5      ┆ 1       │\n",
       "│ Player 8 ┆ 6         ┆ 12       ┆ 2         ┆ … ┆ 80.0      ┆ 33.0 ┆ 33.166667 ┆ 2       │\n",
       "│ Player 9 ┆ 3         ┆ 9        ┆ 2         ┆ … ┆ 60.0      ┆ 75.0 ┆ 65.0      ┆ 3       │\n",
       "│ …        ┆ …         ┆ …        ┆ …         ┆ … ┆ …         ┆ …    ┆ …         ┆ …       │\n",
       "│ Player 0 ┆ 3         ┆ 6        ┆ 2         ┆ … ┆ 50.0      ┆ 41.5 ┆ 46.5      ┆ 6       │\n",
       "│ Player 1 ┆ 0         ┆ 6        ┆ 2         ┆ … ┆ 33.333333 ┆ 75.0 ┆ 60.0      ┆ 7       │\n",
       "│ Player 4 ┆ 0         ┆ 3        ┆ 2         ┆ … ┆ 33.0      ┆ 75.0 ┆ 65.0      ┆ 8       │\n",
       "│ Player 3 ┆ 0         ┆ 0        ┆ 2         ┆ … ┆ 33.0      ┆ 75.0 ┆ 65.0      ┆ 8       │\n",
       "└──────────┴───────────┴──────────┴───────────┴───┴───────────┴──────┴───────────┴─────────┘"
      ]
     },
     "execution_count": 176,
     "metadata": {},
     "output_type": "execute_result"
    }
   ],
   "source": [
    "players_df_2 = results(players_df_1, pairings_2, rand_res(5), [\"Player 7\"])\n",
    "pairings_3 = pairings(players_df_2)\n",
    "print(pairings_2)\n",
    "players_df_2"
   ]
  },
  {
   "cell_type": "code",
   "execution_count": 179,
   "id": "f2d08b67-4fec-4a85-995e-bb3671fc1658",
   "metadata": {
    "tags": []
   },
   "outputs": [
    {
     "data": {
      "text/html": [
       "<div><style>\n",
       ".dataframe > thead > tr > th,\n",
       ".dataframe > tbody > tr > td {\n",
       "  text-align: right;\n",
       "}\n",
       "</style>\n",
       "<small>shape: (10, 13)</small><table border=\"1\" class=\"dataframe\"><thead><tr><th>player</th><th>match_pts</th><th>game_pts</th><th>match_tot</th><th>game_tot</th><th>opponents</th><th>dropped</th><th>mw</th><th>pd_count</th><th>gw</th><th>omw</th><th>ogw</th><th>grp_idx</th></tr><tr><td>str</td><td>i64</td><td>i64</td><td>i64</td><td>i64</td><td>str</td><td>bool</td><td>f64</td><td>i64</td><td>f64</td><td>f64</td><td>f64</td><td>i64</td></tr></thead><tbody><tr><td>&quot;Player 2&quot;</td><td>9</td><td>18</td><td>3</td><td>8</td><td>&quot;Player 7//Play…</td><td>false</td><td>100.0</td><td>1</td><td>75.0</td><td>50.0</td><td>48.981481</td><td>0</td></tr><tr><td>&quot;Player 9&quot;</td><td>6</td><td>15</td><td>3</td><td>7</td><td>&quot;Player 0//Play…</td><td>false</td><td>66.666667</td><td>2</td><td>71.428571</td><td>66.666667</td><td>58.928571</td><td>1</td></tr><tr><td>&quot;Player 6&quot;</td><td>6</td><td>15</td><td>3</td><td>8</td><td>&quot;Player 3//Play…</td><td>false</td><td>66.666667</td><td>1</td><td>62.5</td><td>66.666667</td><td>59.920635</td><td>2</td></tr><tr><td>&quot;Player 0&quot;</td><td>6</td><td>12</td><td>3</td><td>7</td><td>&quot;Player 9//Play…</td><td>false</td><td>66.666667</td><td>2</td><td>57.142857</td><td>44.444444</td><td>49.73545</td><td>3</td></tr><tr><td>&quot;Player 8&quot;</td><td>6</td><td>12</td><td>3</td><td>7</td><td>&quot;Player 1//Play…</td><td>false</td><td>66.666667</td><td>1</td><td>57.142857</td><td>44.333333</td><td>49.095238</td><td>4</td></tr><tr><td>&quot;Player 5&quot;</td><td>3</td><td>12</td><td>3</td><td>9</td><td>&quot;Player 4//Play…</td><td>false</td><td>33.333333</td><td>2</td><td>44.444444</td><td>66.666667</td><td>58.333333</td><td>5</td></tr><tr><td>&quot;Player 3&quot;</td><td>3</td><td>6</td><td>3</td><td>6</td><td>&quot;Player 6//Play…</td><td>false</td><td>33.333333</td><td>2</td><td>33.333333</td><td>66.666667</td><td>59.821429</td><td>6</td></tr><tr><td>&quot;Player 7&quot;</td><td>3</td><td>6</td><td>2</td><td>5</td><td>&quot;Player 2//Play…</td><td>true</td><td>50.0</td><td>null</td><td>40.0</td><td>66.5</td><td>54.0</td><td>7</td></tr><tr><td>&quot;Player 4&quot;</td><td>3</td><td>9</td><td>3</td><td>7</td><td>&quot;Player 5//Play…</td><td>true</td><td>33.333333</td><td>2</td><td>42.857143</td><td>44.333333</td><td>44.862434</td><td>8</td></tr><tr><td>&quot;Player 1&quot;</td><td>0</td><td>6</td><td>3</td><td>8</td><td>&quot;Player 8//Play…</td><td>true</td><td>33.0</td><td>1</td><td>33.0</td><td>50.0</td><td>46.666667</td><td>9</td></tr></tbody></table></div>"
      ],
      "text/plain": [
       "shape: (10, 13)\n",
       "┌──────────┬───────────┬──────────┬───────────┬───┬───────────┬───────────┬───────────┬─────────┐\n",
       "│ player   ┆ match_pts ┆ game_pts ┆ match_tot ┆ … ┆ gw        ┆ omw       ┆ ogw       ┆ grp_idx │\n",
       "│ ---      ┆ ---       ┆ ---      ┆ ---       ┆   ┆ ---       ┆ ---       ┆ ---       ┆ ---     │\n",
       "│ str      ┆ i64       ┆ i64      ┆ i64       ┆   ┆ f64       ┆ f64       ┆ f64       ┆ i64     │\n",
       "╞══════════╪═══════════╪══════════╪═══════════╪═══╪═══════════╪═══════════╪═══════════╪═════════╡\n",
       "│ Player 2 ┆ 9         ┆ 18       ┆ 3         ┆ … ┆ 75.0      ┆ 50.0      ┆ 48.981481 ┆ 0       │\n",
       "│ Player 9 ┆ 6         ┆ 15       ┆ 3         ┆ … ┆ 71.428571 ┆ 66.666667 ┆ 58.928571 ┆ 1       │\n",
       "│ Player 6 ┆ 6         ┆ 15       ┆ 3         ┆ … ┆ 62.5      ┆ 66.666667 ┆ 59.920635 ┆ 2       │\n",
       "│ Player 0 ┆ 6         ┆ 12       ┆ 3         ┆ … ┆ 57.142857 ┆ 44.444444 ┆ 49.73545  ┆ 3       │\n",
       "│ …        ┆ …         ┆ …        ┆ …         ┆ … ┆ …         ┆ …         ┆ …         ┆ …       │\n",
       "│ Player 3 ┆ 3         ┆ 6        ┆ 3         ┆ … ┆ 33.333333 ┆ 66.666667 ┆ 59.821429 ┆ 6       │\n",
       "│ Player 7 ┆ 3         ┆ 6        ┆ 2         ┆ … ┆ 40.0      ┆ 66.5      ┆ 54.0      ┆ 7       │\n",
       "│ Player 4 ┆ 3         ┆ 9        ┆ 3         ┆ … ┆ 42.857143 ┆ 44.333333 ┆ 44.862434 ┆ 8       │\n",
       "│ Player 1 ┆ 0         ┆ 6        ┆ 3         ┆ … ┆ 33.0      ┆ 50.0      ┆ 46.666667 ┆ 9       │\n",
       "└──────────┴───────────┴──────────┴───────────┴───┴───────────┴───────────┴───────────┴─────────┘"
      ]
     },
     "execution_count": 179,
     "metadata": {},
     "output_type": "execute_result"
    }
   ],
   "source": [
    "players_df_3 = results(players_df_2, pairings_3, rand_res(4), [\"Player 4\", \"Player 1\"])\n",
    "pairings_4 = pairings(players_df_3)\n",
    "players_df_3"
   ]
  },
  {
   "cell_type": "code",
   "execution_count": 180,
   "id": "852cf92f-44aa-4b3c-9e62-a12f9aecd4a7",
   "metadata": {
    "tags": []
   },
   "outputs": [
    {
     "data": {
      "text/html": [
       "<div><style>\n",
       ".dataframe > thead > tr > th,\n",
       ".dataframe > tbody > tr > td {\n",
       "  text-align: right;\n",
       "}\n",
       "</style>\n",
       "<small>shape: (10, 13)</small><table border=\"1\" class=\"dataframe\"><thead><tr><th>player</th><th>match_pts</th><th>game_pts</th><th>match_tot</th><th>game_tot</th><th>opponents</th><th>dropped</th><th>mw</th><th>pd_count</th><th>gw</th><th>omw</th><th>ogw</th><th>grp_idx</th></tr><tr><td>str</td><td>i64</td><td>i64</td><td>i64</td><td>i64</td><td>str</td><td>bool</td><td>f64</td><td>i64</td><td>f64</td><td>f64</td><td>f64</td><td>i64</td></tr></thead><tbody><tr><td>&quot;Player 9&quot;</td><td>9</td><td>21</td><td>4</td><td>10</td><td>&quot;Player 0//Play…</td><td>false</td><td>75.0</td><td>2</td><td>70.0</td><td>68.75</td><td>60.075758</td><td>0</td></tr><tr><td>&quot;Player 2&quot;</td><td>9</td><td>21</td><td>4</td><td>11</td><td>&quot;Player 7//Play…</td><td>false</td><td>75.0</td><td>2</td><td>63.636364</td><td>56.25</td><td>53.636364</td><td>1</td></tr><tr><td>&quot;Player 0&quot;</td><td>9</td><td>18</td><td>4</td><td>9</td><td>&quot;Player 9//Play…</td><td>false</td><td>75.0</td><td>2</td><td>66.666667</td><td>52.0</td><td>51.969697</td><td>2</td></tr><tr><td>&quot;Player 8&quot;</td><td>9</td><td>18</td><td>4</td><td>10</td><td>&quot;Player 1//Play…</td><td>false</td><td>75.0</td><td>2</td><td>60.0</td><td>43.583333</td><td>44.797619</td><td>3</td></tr><tr><td>&quot;Player 6&quot;</td><td>6</td><td>15</td><td>4</td><td>10</td><td>&quot;Player 3//Play…</td><td>false</td><td>50.0</td><td>2</td><td>50.0</td><td>64.5</td><td>58.409091</td><td>4</td></tr><tr><td>&quot;Player 5&quot;</td><td>6</td><td>18</td><td>4</td><td>11</td><td>&quot;Player 4//Play…</td><td>false</td><td>50.0</td><td>3</td><td>54.545455</td><td>61.111111</td><td>57.720058</td><td>5</td></tr><tr><td>&quot;Player 3&quot;</td><td>3</td><td>9</td><td>4</td><td>9</td><td>&quot;Player 6//Play…</td><td>false</td><td>33.0</td><td>2</td><td>33.333333</td><td>66.666667</td><td>58.888889</td><td>6</td></tr><tr><td>&quot;Player 7&quot;</td><td>3</td><td>6</td><td>2</td><td>5</td><td>&quot;Player 2//Play…</td><td>true</td><td>50.0</td><td>null</td><td>40.0</td><td>54.0</td><td>48.318182</td><td>7</td></tr><tr><td>&quot;Player 4&quot;</td><td>3</td><td>9</td><td>3</td><td>7</td><td>&quot;Player 5//Play…</td><td>true</td><td>33.333333</td><td>null</td><td>42.857143</td><td>52.666667</td><td>49.181818</td><td>8</td></tr><tr><td>&quot;Player 1&quot;</td><td>0</td><td>6</td><td>3</td><td>8</td><td>&quot;Player 8//Play…</td><td>true</td><td>33.0</td><td>null</td><td>33.0</td><td>52.777778</td><td>47.619048</td><td>9</td></tr></tbody></table></div>"
      ],
      "text/plain": [
       "shape: (10, 13)\n",
       "┌──────────┬───────────┬──────────┬───────────┬───┬───────────┬───────────┬───────────┬─────────┐\n",
       "│ player   ┆ match_pts ┆ game_pts ┆ match_tot ┆ … ┆ gw        ┆ omw       ┆ ogw       ┆ grp_idx │\n",
       "│ ---      ┆ ---       ┆ ---      ┆ ---       ┆   ┆ ---       ┆ ---       ┆ ---       ┆ ---     │\n",
       "│ str      ┆ i64       ┆ i64      ┆ i64       ┆   ┆ f64       ┆ f64       ┆ f64       ┆ i64     │\n",
       "╞══════════╪═══════════╪══════════╪═══════════╪═══╪═══════════╪═══════════╪═══════════╪═════════╡\n",
       "│ Player 9 ┆ 9         ┆ 21       ┆ 4         ┆ … ┆ 70.0      ┆ 68.75     ┆ 60.075758 ┆ 0       │\n",
       "│ Player 2 ┆ 9         ┆ 21       ┆ 4         ┆ … ┆ 63.636364 ┆ 56.25     ┆ 53.636364 ┆ 1       │\n",
       "│ Player 0 ┆ 9         ┆ 18       ┆ 4         ┆ … ┆ 66.666667 ┆ 52.0      ┆ 51.969697 ┆ 2       │\n",
       "│ Player 8 ┆ 9         ┆ 18       ┆ 4         ┆ … ┆ 60.0      ┆ 43.583333 ┆ 44.797619 ┆ 3       │\n",
       "│ …        ┆ …         ┆ …        ┆ …         ┆ … ┆ …         ┆ …         ┆ …         ┆ …       │\n",
       "│ Player 3 ┆ 3         ┆ 9        ┆ 4         ┆ … ┆ 33.333333 ┆ 66.666667 ┆ 58.888889 ┆ 6       │\n",
       "│ Player 7 ┆ 3         ┆ 6        ┆ 2         ┆ … ┆ 40.0      ┆ 54.0      ┆ 48.318182 ┆ 7       │\n",
       "│ Player 4 ┆ 3         ┆ 9        ┆ 3         ┆ … ┆ 42.857143 ┆ 52.666667 ┆ 49.181818 ┆ 8       │\n",
       "│ Player 1 ┆ 0         ┆ 6        ┆ 3         ┆ … ┆ 33.0      ┆ 52.777778 ┆ 47.619048 ┆ 9       │\n",
       "└──────────┴───────────┴──────────┴───────────┴───┴───────────┴───────────┴───────────┴─────────┘"
      ]
     },
     "execution_count": 180,
     "metadata": {},
     "output_type": "execute_result"
    }
   ],
   "source": [
    "results(players_df_3, pairings_4, rand_res(3), [\"Player 4\", \"Player 1\"])"
   ]
  }
 ],
 "metadata": {
  "kernelspec": {
   "display_name": "Python 3 (ipykernel)",
   "language": "python",
   "name": "python3"
  },
  "language_info": {
   "codemirror_mode": {
    "name": "ipython",
    "version": 3
   },
   "file_extension": ".py",
   "mimetype": "text/x-python",
   "name": "python",
   "nbconvert_exporter": "python",
   "pygments_lexer": "ipython3",
   "version": "3.11.3"
  }
 },
 "nbformat": 4,
 "nbformat_minor": 5
}
