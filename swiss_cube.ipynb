{
 "cells": [
  {
   "cell_type": "code",
   "execution_count": 1,
   "id": "9a5edb87-e5a8-4020-8d98-6296e27b63ed",
   "metadata": {
    "tags": []
   },
   "outputs": [
    {
     "name": "stdout",
     "output_type": "stream",
     "text": [
      "Requirement already satisfied: pip in c:\\users\\esben\\anaconda3\\lib\\site-packages (23.1.2)\n",
      "Collecting pip\n",
      "  Using cached pip-23.2-py3-none-any.whl (2.1 MB)\n",
      "Installing collected packages: pip\n",
      "  Attempting uninstall: pip\n",
      "    Found existing installation: pip 23.1.2\n",
      "    Uninstalling pip-23.1.2:\n",
      "      Successfully uninstalled pip-23.1.2\n",
      "Successfully installed pip-23.2\n",
      "Requirement already satisfied: pyodbc in c:\\users\\esben\\anaconda3\\lib\\site-packages (4.0.34)\n",
      "Collecting pyodbc\n",
      "  Downloading pyodbc-4.0.39-cp311-cp311-win_amd64.whl (69 kB)\n",
      "     ---------------------------------------- 0.0/69.7 kB ? eta -:--:--\n",
      "     ---------------------------------------- 69.7/69.7 kB 3.7 MB/s eta 0:00:00\n",
      "Installing collected packages: pyodbc\n",
      "  Attempting uninstall: pyodbc\n",
      "    Found existing installation: pyodbc 4.0.34\n",
      "    Uninstalling pyodbc-4.0.34:\n",
      "      Successfully uninstalled pyodbc-4.0.34\n",
      "Successfully installed pyodbc-4.0.39\n",
      "Collecting polars\n",
      "  Obtaining dependency information for polars from https://files.pythonhosted.org/packages/c5/18/4f0fbacc2f04eb1ef64cb7fe452d849d32c17bb10543391cfe7ac0cd4f9b/polars-0.18.7-cp38-abi3-win_amd64.whl.metadata\n",
      "  Using cached polars-0.18.7-cp38-abi3-win_amd64.whl.metadata (14 kB)\n",
      "Using cached polars-0.18.7-cp38-abi3-win_amd64.whl (19.8 MB)\n",
      "Installing collected packages: polars\n",
      "Successfully installed polars-0.18.7\n"
     ]
    }
   ],
   "source": [
    "#Install pip packages in the curret Jupyter kernal\n",
    "import sys\n",
    "!{sys.executable} -m pip install --upgrade pip\n",
    "!{sys.executable} -m pip install --upgrade pyodbc\n",
    "!{sys.executable} -m pip install polars"
   ]
  },
  {
   "cell_type": "markdown",
   "id": "600518fa-196c-4cbd-861a-309ba31e1178",
   "metadata": {},
   "source": [
    "Notes on behavior:\n",
    "\n",
    "Byes do not count towards OMW and OGW one way or othe other.\n",
    "\n",
    "If a bye is assigned, it's first assigned among subjects with the fewest byes (usually zero) and second among subjects with the fewest points (should be updated to lowest overall ranking).\n",
    "\n",
    "I've calculated omw, gw, and ogw wrong. They're fractions of points, not fractions of wins. See https://media.wizards.com/2023/wpn/marketing_materials/wpn/mtg_mtr_2023may29_en.pdf\n",
    "\n"
   ]
  },
  {
   "cell_type": "code",
   "execution_count": 9,
   "id": "933a4cef-9b45-4f78-911c-4d83e2244369",
   "metadata": {
    "tags": []
   },
   "outputs": [],
   "source": [
    "import random\n",
    "import polars as pl\n",
    "import networkx as nx"
   ]
  },
  {
   "cell_type": "code",
   "execution_count": 72,
   "id": "c285f41b-18e8-4ae3-ae8a-80f7093f9ff6",
   "metadata": {
    "tags": []
   },
   "outputs": [],
   "source": [
    "def pop_random(lst):\n",
    "    idx = random.randrange(0, len(lst))\n",
    "    return lst.pop(idx)\n",
    "\n",
    "wld_list = ['W'] * 45 + ['L'] * 45 + ['D'] * 10\n",
    "\n",
    "def match_dict(n):\n",
    "    lst = [\"Player \" + str(i) for i in range(n)]\n",
    "    pairs = []\n",
    "    pair_dict = {}\n",
    "    point_dict = {}\n",
    "    while lst:\n",
    "        rand1 = pop_random(lst)\n",
    "        rand2 = pop_random(lst)\n",
    "        pair = [rand1, rand2]\n",
    "        pairs.append(pair)\n",
    "    for pair in pairs:\n",
    "        pair_dict[pair[0]] = pair[1]\n",
    "        pair_dict[pair[1]] = pair[0]\n",
    "        wld = random.choice(wld_list)\n",
    "        if wld == \"W\":\n",
    "            point_dict[pair[0]] = 3\n",
    "            point_dict[pair[1]] = 0\n",
    "        elif wld == \"L\":\n",
    "            point_dict[pair[0]] = 0\n",
    "            point_dict[pair[1]] = 3\n",
    "        elif wld == \"D\":\n",
    "            point_dict[pair[0]] = 1\n",
    "            point_dict[pair[1]] = 1\n",
    "        \n",
    "    return pair_dict, point_dict"
   ]
  },
  {
   "cell_type": "code",
   "execution_count": 20,
   "id": "a6ecc4bf-0bd1-4791-8671-1db38aade3e8",
   "metadata": {
    "tags": []
   },
   "outputs": [],
   "source": [
    "graph_players = {\"A\": \"B\", \"B\": \"A\", \"C\": \"D\", \"D\": \"C\", \"E\": []}\n",
    "graph_points = {\"A\": 3, \"B\": 0, \"C\": 1, \"D\": 1, \"E\": 3}"
   ]
  },
  {
   "cell_type": "code",
   "execution_count": 90,
   "id": "aebf02d3-54ed-4c54-9193-6a9f3729305a",
   "metadata": {
    "tags": []
   },
   "outputs": [],
   "source": [
    "graph_players, graph_points = match_dict(200)"
   ]
  },
  {
   "cell_type": "code",
   "execution_count": 94,
   "id": "d7a63810-2494-4167-bf63-6eccef34b1e7",
   "metadata": {
    "tags": []
   },
   "outputs": [
    {
     "data": {
      "text/plain": [
       "100"
      ]
     },
     "execution_count": 94,
     "metadata": {},
     "output_type": "execute_result"
    }
   ],
   "source": [
    "bracketGraph = nx.Graph()\n",
    "bracketGraph.add_nodes_from(graph_players)\n",
    "for player in bracketGraph.nodes():\n",
    "    for opponent in bracketGraph.nodes():\n",
    "        if opponent not in graph_players[player] and player != opponent:\n",
    "            #wgt = random.randint(1, 9) #randomizes pairings. Not necessarily desirable.\n",
    "            wgt = 1 + (graph_points[player] + graph_points[opponent])**2\n",
    "            bracketGraph.add_edge(player, opponent, weight=wgt)\n",
    "pairings_bg = dict(nx.max_weight_matching(bracketGraph))\n",
    "len(pairings_bg)"
   ]
  },
  {
   "cell_type": "code",
   "execution_count": 95,
   "id": "a78f6009-d830-4e3a-8499-a281b35cffc2",
   "metadata": {
    "tags": []
   },
   "outputs": [
    {
     "name": "stdout",
     "output_type": "stream",
     "text": [
      "1 0\n",
      "Player 146 Player 184\n",
      "3 1\n",
      "Player 43 Player 109\n"
     ]
    }
   ],
   "source": [
    "for key, value in pairings_bg.items():\n",
    "    if graph_points[key] != graph_points[value]:\n",
    "        print(graph_points[key], graph_points[value])\n",
    "        print(key, value)"
   ]
  },
  {
   "cell_type": "code",
   "execution_count": 93,
   "id": "2921c694-a3aa-46c6-a5a9-2c9fd14f3a65",
   "metadata": {
    "tags": []
   },
   "outputs": [
    {
     "data": {
      "text/plain": [
       "{'Player 191': 0,\n",
       " 'Player 43': 3,\n",
       " 'Player 134': 0,\n",
       " 'Player 174': 3,\n",
       " 'Player 145': 3,\n",
       " 'Player 178': 0,\n",
       " 'Player 146': 1,\n",
       " 'Player 0': 1,\n",
       " 'Player 12': 0,\n",
       " 'Player 59': 3,\n",
       " 'Player 111': 0,\n",
       " 'Player 10': 3,\n",
       " 'Player 176': 0,\n",
       " 'Player 39': 3,\n",
       " 'Player 129': 0,\n",
       " 'Player 128': 3,\n",
       " 'Player 80': 3,\n",
       " 'Player 36': 0,\n",
       " 'Player 179': 3,\n",
       " 'Player 33': 0,\n",
       " 'Player 52': 0,\n",
       " 'Player 55': 3,\n",
       " 'Player 194': 3,\n",
       " 'Player 50': 0,\n",
       " 'Player 136': 3,\n",
       " 'Player 8': 0,\n",
       " 'Player 173': 3,\n",
       " 'Player 164': 0,\n",
       " 'Player 163': 3,\n",
       " 'Player 103': 0,\n",
       " 'Player 113': 0,\n",
       " 'Player 138': 3,\n",
       " 'Player 13': 3,\n",
       " 'Player 139': 0,\n",
       " 'Player 161': 1,\n",
       " 'Player 86': 1,\n",
       " 'Player 15': 1,\n",
       " 'Player 127': 1,\n",
       " 'Player 6': 0,\n",
       " 'Player 135': 3,\n",
       " 'Player 64': 0,\n",
       " 'Player 169': 3,\n",
       " 'Player 14': 3,\n",
       " 'Player 155': 0,\n",
       " 'Player 49': 3,\n",
       " 'Player 65': 0,\n",
       " 'Player 171': 0,\n",
       " 'Player 60': 3,\n",
       " 'Player 83': 3,\n",
       " 'Player 196': 0,\n",
       " 'Player 124': 0,\n",
       " 'Player 87': 3,\n",
       " 'Player 95': 3,\n",
       " 'Player 125': 0,\n",
       " 'Player 53': 0,\n",
       " 'Player 24': 3,\n",
       " 'Player 112': 0,\n",
       " 'Player 11': 3,\n",
       " 'Player 89': 3,\n",
       " 'Player 150': 0,\n",
       " 'Player 42': 3,\n",
       " 'Player 107': 0,\n",
       " 'Player 141': 0,\n",
       " 'Player 156': 3,\n",
       " 'Player 189': 3,\n",
       " 'Player 147': 0,\n",
       " 'Player 9': 0,\n",
       " 'Player 30': 3,\n",
       " 'Player 56': 3,\n",
       " 'Player 117': 0,\n",
       " 'Player 63': 0,\n",
       " 'Player 162': 3,\n",
       " 'Player 122': 0,\n",
       " 'Player 37': 3,\n",
       " 'Player 81': 0,\n",
       " 'Player 92': 3,\n",
       " 'Player 73': 0,\n",
       " 'Player 79': 3,\n",
       " 'Player 23': 3,\n",
       " 'Player 158': 0,\n",
       " 'Player 38': 3,\n",
       " 'Player 114': 0,\n",
       " 'Player 44': 3,\n",
       " 'Player 67': 0,\n",
       " 'Player 153': 3,\n",
       " 'Player 106': 0,\n",
       " 'Player 104': 3,\n",
       " 'Player 98': 0,\n",
       " 'Player 82': 0,\n",
       " 'Player 105': 3,\n",
       " 'Player 27': 3,\n",
       " 'Player 190': 0,\n",
       " 'Player 25': 3,\n",
       " 'Player 4': 0,\n",
       " 'Player 7': 3,\n",
       " 'Player 160': 0,\n",
       " 'Player 20': 0,\n",
       " 'Player 61': 3,\n",
       " 'Player 40': 0,\n",
       " 'Player 197': 3,\n",
       " 'Player 34': 3,\n",
       " 'Player 172': 0,\n",
       " 'Player 188': 3,\n",
       " 'Player 126': 0,\n",
       " 'Player 16': 0,\n",
       " 'Player 35': 3,\n",
       " 'Player 88': 3,\n",
       " 'Player 85': 0,\n",
       " 'Player 62': 0,\n",
       " 'Player 77': 3,\n",
       " 'Player 71': 0,\n",
       " 'Player 74': 3,\n",
       " 'Player 123': 1,\n",
       " 'Player 68': 1,\n",
       " 'Player 157': 3,\n",
       " 'Player 140': 0,\n",
       " 'Player 115': 3,\n",
       " 'Player 47': 0,\n",
       " 'Player 26': 3,\n",
       " 'Player 93': 0,\n",
       " 'Player 159': 0,\n",
       " 'Player 199': 3,\n",
       " 'Player 5': 1,\n",
       " 'Player 198': 1,\n",
       " 'Player 118': 3,\n",
       " 'Player 101': 0,\n",
       " 'Player 133': 3,\n",
       " 'Player 193': 0,\n",
       " 'Player 70': 0,\n",
       " 'Player 185': 3,\n",
       " 'Player 152': 3,\n",
       " 'Player 84': 0,\n",
       " 'Player 130': 0,\n",
       " 'Player 177': 3,\n",
       " 'Player 17': 1,\n",
       " 'Player 149': 1,\n",
       " 'Player 180': 3,\n",
       " 'Player 151': 0,\n",
       " 'Player 181': 0,\n",
       " 'Player 18': 3,\n",
       " 'Player 110': 0,\n",
       " 'Player 99': 3,\n",
       " 'Player 183': 3,\n",
       " 'Player 48': 0,\n",
       " 'Player 192': 0,\n",
       " 'Player 168': 3,\n",
       " 'Player 182': 0,\n",
       " 'Player 100': 3,\n",
       " 'Player 102': 3,\n",
       " 'Player 3': 0,\n",
       " 'Player 46': 0,\n",
       " 'Player 195': 3,\n",
       " 'Player 148': 0,\n",
       " 'Player 51': 3,\n",
       " 'Player 72': 0,\n",
       " 'Player 137': 3,\n",
       " 'Player 76': 3,\n",
       " 'Player 19': 0,\n",
       " 'Player 54': 0,\n",
       " 'Player 108': 3,\n",
       " 'Player 143': 3,\n",
       " 'Player 90': 0,\n",
       " 'Player 78': 0,\n",
       " 'Player 165': 3,\n",
       " 'Player 121': 0,\n",
       " 'Player 75': 3,\n",
       " 'Player 116': 3,\n",
       " 'Player 96': 0,\n",
       " 'Player 41': 3,\n",
       " 'Player 57': 0,\n",
       " 'Player 66': 1,\n",
       " 'Player 69': 1,\n",
       " 'Player 119': 0,\n",
       " 'Player 167': 3,\n",
       " 'Player 187': 3,\n",
       " 'Player 31': 0,\n",
       " 'Player 29': 1,\n",
       " 'Player 120': 1,\n",
       " 'Player 97': 3,\n",
       " 'Player 58': 0,\n",
       " 'Player 175': 0,\n",
       " 'Player 1': 3,\n",
       " 'Player 91': 0,\n",
       " 'Player 45': 3,\n",
       " 'Player 28': 0,\n",
       " 'Player 132': 3,\n",
       " 'Player 170': 0,\n",
       " 'Player 131': 3,\n",
       " 'Player 166': 3,\n",
       " 'Player 154': 0,\n",
       " 'Player 22': 1,\n",
       " 'Player 109': 1,\n",
       " 'Player 32': 3,\n",
       " 'Player 142': 0,\n",
       " 'Player 94': 0,\n",
       " 'Player 2': 3,\n",
       " 'Player 144': 3,\n",
       " 'Player 21': 0,\n",
       " 'Player 184': 0,\n",
       " 'Player 186': 3}"
      ]
     },
     "execution_count": 93,
     "metadata": {},
     "output_type": "execute_result"
    }
   ],
   "source": [
    "graph_points"
   ]
  },
  {
   "cell_type": "code",
   "execution_count": 3,
   "id": "53d956c3-9610-4f5a-882a-cbe1207b684a",
   "metadata": {
    "tags": []
   },
   "outputs": [
    {
     "data": {
      "text/html": [
       "<div><style>\n",
       ".dataframe > thead > tr > th,\n",
       ".dataframe > tbody > tr > td {\n",
       "  text-align: right;\n",
       "}\n",
       "</style>\n",
       "<small>shape: (5, 11)</small><table border=\"1\" class=\"dataframe\"><thead><tr><th>player</th><th>points</th><th>match_wins</th><th>game_wins</th><th>total_matches</th><th>total_games</th><th>opponents</th><th>omw</th><th>gw</th><th>ogw</th><th>dropped</th></tr><tr><td>str</td><td>i64</td><td>i64</td><td>i64</td><td>i64</td><td>i64</td><td>str</td><td>f64</td><td>f64</td><td>f64</td><td>bool</td></tr></thead><tbody><tr><td>&quot;Esben&quot;</td><td>0</td><td>0</td><td>0</td><td>0</td><td>0</td><td>&quot;&quot;</td><td>0.0</td><td>0.0</td><td>0.0</td><td>false</td></tr><tr><td>&quot;Jeppe&quot;</td><td>0</td><td>0</td><td>0</td><td>0</td><td>0</td><td>&quot;&quot;</td><td>0.0</td><td>0.0</td><td>0.0</td><td>false</td></tr><tr><td>&quot;Halfdan&quot;</td><td>0</td><td>0</td><td>0</td><td>0</td><td>0</td><td>&quot;&quot;</td><td>0.0</td><td>0.0</td><td>0.0</td><td>false</td></tr><tr><td>&quot;Asger&quot;</td><td>0</td><td>0</td><td>0</td><td>0</td><td>0</td><td>&quot;&quot;</td><td>0.0</td><td>0.0</td><td>0.0</td><td>false</td></tr><tr><td>&quot;Bakke&quot;</td><td>0</td><td>0</td><td>0</td><td>0</td><td>0</td><td>&quot;&quot;</td><td>0.0</td><td>0.0</td><td>0.0</td><td>false</td></tr></tbody></table></div>"
      ],
      "text/plain": [
       "shape: (5, 11)\n",
       "┌─────────┬────────┬────────────┬───────────┬───┬─────┬─────┬─────┬─────────┐\n",
       "│ player  ┆ points ┆ match_wins ┆ game_wins ┆ … ┆ omw ┆ gw  ┆ ogw ┆ dropped │\n",
       "│ ---     ┆ ---    ┆ ---        ┆ ---       ┆   ┆ --- ┆ --- ┆ --- ┆ ---     │\n",
       "│ str     ┆ i64    ┆ i64        ┆ i64       ┆   ┆ f64 ┆ f64 ┆ f64 ┆ bool    │\n",
       "╞═════════╪════════╪════════════╪═══════════╪═══╪═════╪═════╪═════╪═════════╡\n",
       "│ Esben   ┆ 0      ┆ 0          ┆ 0         ┆ … ┆ 0.0 ┆ 0.0 ┆ 0.0 ┆ false   │\n",
       "│ Jeppe   ┆ 0      ┆ 0          ┆ 0         ┆ … ┆ 0.0 ┆ 0.0 ┆ 0.0 ┆ false   │\n",
       "│ Halfdan ┆ 0      ┆ 0          ┆ 0         ┆ … ┆ 0.0 ┆ 0.0 ┆ 0.0 ┆ false   │\n",
       "│ Asger   ┆ 0      ┆ 0          ┆ 0         ┆ … ┆ 0.0 ┆ 0.0 ┆ 0.0 ┆ false   │\n",
       "│ Bakke   ┆ 0      ┆ 0          ┆ 0         ┆ … ┆ 0.0 ┆ 0.0 ┆ 0.0 ┆ false   │\n",
       "└─────────┴────────┴────────────┴───────────┴───┴─────┴─────┴─────┴─────────┘"
      ]
     },
     "execution_count": 3,
     "metadata": {},
     "output_type": "execute_result"
    }
   ],
   "source": [
    "players = [\"Esben\",\n",
    "          \"Jeppe\",\n",
    "          \"Halfdan\",\n",
    "          \"Asger\",\n",
    "          \"Bakke\"]\n",
    "if (len(players) > len(set(players))):\n",
    "    raise ValueError('There are non-unique players.')\n",
    "elif (\"Bye\" in players):\n",
    "    raise ValueError('You have listed \"Bye\" as a player. Please don\\'t.')\n",
    "\n",
    "players_df = pl.DataFrame({\"player\": players, \"points\": 0, \"match_wins\": 0, \"game_wins\": 0, \"total_matches\": 0, \"total_games\": 0, \"opponents\": \"\", \"omw\": 0., \"gw\": 0., \"ogw\": 0., \"dropped\": False})\n",
    "players_df"
   ]
  },
  {
   "cell_type": "code",
   "execution_count": 4,
   "id": "376ad1df-a210-4fbe-b81e-f512bb83def9",
   "metadata": {
    "tags": []
   },
   "outputs": [
    {
     "data": {
      "text/html": [
       "<div><style>\n",
       ".dataframe > thead > tr > th,\n",
       ".dataframe > tbody > tr > td {\n",
       "  text-align: right;\n",
       "}\n",
       "</style>\n",
       "<small>shape: (3, 3)</small><table border=\"1\" class=\"dataframe\"><thead><tr><th>match</th><th>play</th><th>draw</th></tr><tr><td>i32</td><td>str</td><td>str</td></tr></thead><tbody><tr><td>0</td><td>&quot;Halfdan&quot;</td><td>&quot;Bye&quot;</td></tr><tr><td>1</td><td>&quot;Jeppe&quot;</td><td>&quot;Esben&quot;</td></tr><tr><td>2</td><td>&quot;Bakke&quot;</td><td>&quot;Asger&quot;</td></tr></tbody></table></div>"
      ],
      "text/plain": [
       "shape: (3, 3)\n",
       "┌───────┬─────────┬───────┐\n",
       "│ match ┆ play    ┆ draw  │\n",
       "│ ---   ┆ ---     ┆ ---   │\n",
       "│ i32   ┆ str     ┆ str   │\n",
       "╞═══════╪═════════╪═══════╡\n",
       "│ 0     ┆ Halfdan ┆ Bye   │\n",
       "│ 1     ┆ Jeppe   ┆ Esben │\n",
       "│ 2     ┆ Bakke   ┆ Asger │\n",
       "└───────┴─────────┴───────┘"
      ]
     },
     "execution_count": 4,
     "metadata": {},
     "output_type": "execute_result"
    }
   ],
   "source": [
    "def pairings(pair_players):\n",
    "    \n",
    "    pair_players = pair_players.filter(pl.col(\"dropped\") == False)\n",
    "    \n",
    "    has_bye = len(pair_players) % 2 == 1\n",
    "    \n",
    "    if (has_bye):\n",
    "        bye_players = pair_players.with_columns(\n",
    "            bye_count = pl.col(\"opponents\").str.count_match(\"Bye\")\n",
    "        ).filter(\n",
    "            pl.col(\"bye_count\") == pl.col(\"bye_count\").min()\n",
    "        ).filter(\n",
    "            pl.col(\"points\") == pl.col(\"points\").min()\n",
    "        )\n",
    "        \n",
    "        bye_pair = bye_players.sample(1).select(\"player\").vstack(\n",
    "                pl.DataFrame({\"player\": \"Bye\"})\n",
    "            ).with_columns(\n",
    "                match = 0,\n",
    "                play_draw = pl.Series([\"play\", \"draw\"])\n",
    "            )\n",
    "        \n",
    "        pair_players0 = pair_players = pair_players.join(bye_pair, on = \"player\", how = \"anti\").with_columns(forbidden = pl.lit(\"\"))\n",
    "                \n",
    "    pairs_n = len(pair_players)/2\n",
    "    \n",
    "    pairs = pair_players.select(\"player\").with_columns(\n",
    "        match = 0,\n",
    "        play_draw = pl.lit(\"play\")\n",
    "    ).clear()\n",
    "    \n",
    "    n=0\n",
    "    while (len(pair_players) > 0):\n",
    "        n = n+1\n",
    "        \n",
    "        match_player_1 = pair_players.slice(0, 1)\n",
    "\n",
    "        unmatch_list = match_player_1.with_columns(\n",
    "            oppo_struct = pl.col(\"opponents\").str.split(\"//\").list.to_struct()\n",
    "        ).select(\"oppo_struct\").unnest(\"oppo_struct\").melt(\n",
    "            id_vars = None, value_vars = None, value_name = \"player\"\n",
    "        ).groupby(\"player\").agg(pl.count()).filter(\n",
    "            pl.col(\"count\") == pl.col(\"count\").max()\n",
    "        ).drop(\"count\")\n",
    "\n",
    "        match_player_2 = pair_players.select(\"player\").join(\n",
    "            unmatch_list, on = \"player\", how = \"anti\"\n",
    "        ).join(\n",
    "            match_player_1, on = \"player\", how = \"anti\"\n",
    "        ).slice(0, 1)\n",
    "       \n",
    "        pair = match_player_1.select(\"player\").vstack(match_player_2)\n",
    "        \n",
    "        if (len(pair) != 2):\n",
    "            pair_players = pair_players.clear()\n",
    "            pairs = pairs.clear()\n",
    "            continue\n",
    "        \n",
    "        pair_players = pair_players.join(pair, on = \"player\", how = \"anti\")\n",
    "        \n",
    "        pair = pair.with_columns(\n",
    "            match = n,\n",
    "            play_draw = pl.Series(random.sample([\"play\", \"draw\"], 2))\n",
    "        )\n",
    "        \n",
    "        pairs = pairs.vstack(pair)\n",
    "            \n",
    "    if (has_bye):\n",
    "        pairs = bye_pair.vstack(pairs)\n",
    "            \n",
    "    pairs = pairs.pivot(\n",
    "        values=\"player\", index=\"match\", columns=\"play_draw\", aggregate_function=\"first\"        \n",
    "    ).select([\"match\", \"play\", \"draw\"])\n",
    "    \n",
    "    return pairs\n",
    "\n",
    "pairings(players_df)"
   ]
  },
  {
   "cell_type": "code",
   "execution_count": 5,
   "id": "e66f454d-66f9-44ec-8167-7880265808f3",
   "metadata": {
    "tags": []
   },
   "outputs": [
    {
     "data": {
      "text/html": [
       "<div><style>\n",
       ".dataframe > thead > tr > th,\n",
       ".dataframe > tbody > tr > td {\n",
       "  text-align: right;\n",
       "}\n",
       "</style>\n",
       "<small>shape: (3, 3)</small><table border=\"1\" class=\"dataframe\"><thead><tr><th>match</th><th>play</th><th>draw</th></tr><tr><td>i32</td><td>str</td><td>str</td></tr></thead><tbody><tr><td>0</td><td>&quot;Asger&quot;</td><td>&quot;Bye&quot;</td></tr><tr><td>1</td><td>&quot;Jeppe&quot;</td><td>&quot;Esben&quot;</td></tr><tr><td>2</td><td>&quot;Bakke&quot;</td><td>&quot;Halfdan&quot;</td></tr></tbody></table></div>"
      ],
      "text/plain": [
       "shape: (3, 3)\n",
       "┌───────┬───────┬─────────┐\n",
       "│ match ┆ play  ┆ draw    │\n",
       "│ ---   ┆ ---   ┆ ---     │\n",
       "│ i32   ┆ str   ┆ str     │\n",
       "╞═══════╪═══════╪═════════╡\n",
       "│ 0     ┆ Asger ┆ Bye     │\n",
       "│ 1     ┆ Jeppe ┆ Esben   │\n",
       "│ 2     ┆ Bakke ┆ Halfdan │\n",
       "└───────┴───────┴─────────┘"
      ]
     },
     "execution_count": 5,
     "metadata": {},
     "output_type": "execute_result"
    }
   ],
   "source": [
    "pairings_1 = pairings(players_df)\n",
    "pairings_1"
   ]
  },
  {
   "cell_type": "code",
   "execution_count": 6,
   "id": "6cba1c66-e0b5-4647-8f57-785dd7c4264c",
   "metadata": {
    "tags": []
   },
   "outputs": [],
   "source": [
    "def results(players_df, pairings_df, result_list = None, drop_list = None):\n",
    "    \n",
    "    #TODO: Accept manual results\n",
    "    if (result_list is None):\n",
    "        result_list = input(\"How did it go? \")\n",
    "        \n",
    "    if (len(pairings_df.filter(pl.col(\"play\") == \"Bye\")) > 0):\n",
    "        result_list = result_list + [\"0-2\"]\n",
    "    elif (len(pairings_df.filter(pl.col(\"draw\") == \"Bye\")) > 0):\n",
    "        result_list = result_list + [\"2-0\"]\n",
    "    \n",
    "    result_df = pl.DataFrame({\"result\": result_list}).with_columns(\n",
    "        wins = pl.col(\"result\").str.split_exact(\"-\", 2)\n",
    "    ).unnest(\"wins\").rename(\n",
    "        {\"field_0\": \"play_wins\", \"field_1\": \"draw_wins\", \"field_2\": \"games_drawn\"}\n",
    "    ).with_columns(\n",
    "        play_wins = pl.col(\"play_wins\").cast(pl.Int32),\n",
    "        draw_wins = pl.col(\"draw_wins\").cast(pl.Int32),\n",
    "        games_drawn = pl.col(\"games_drawn\").cast(pl.Int32),\n",
    "        play_points = pl.when(pl.col(\"play_wins\") > pl.col(\"draw_wins\")).then(pl.lit(3))\\\n",
    "            .when(pl.col(\"play_wins\") == pl.col(\"draw_wins\")).then(pl.lit(1))\\\n",
    "            .otherwise(pl.lit(0)),\n",
    "        draw_points = pl.when(pl.col(\"draw_wins\") > pl.col(\"play_wins\")).then(pl.lit(3))\\\n",
    "            .when(pl.col(\"draw_wins\") == pl.col(\"play_wins\")).then(pl.lit(1))\\\n",
    "            .otherwise(pl.lit(0))\n",
    "    ).fill_null(0).with_columns(\n",
    "        total_games = pl.col(\"play_wins\") + pl.col(\"draw_wins\") + pl.col(\"games_drawn\")\n",
    "    )\n",
    "    \n",
    "    result_df = pairings_df.hstack(result_df)\n",
    "    \n",
    "    play_df = result_df.select(pl.col(\"^play_.*$\"), player = \"play\", new_opponent = \"draw\", new_games = \"total_games\")\n",
    "    draw_df = result_df.select(pl.col(\"^draw_.*$\"), player = \"draw\", new_opponent = \"play\", new_games = \"total_games\")\n",
    "\n",
    "    play_df.columns = list(map(lambda x: x.replace(\"play_\", \"new_\"), play_df.columns))\n",
    "    draw_df.columns = list(map(lambda x: x.replace(\"draw_\", \"new_\"), draw_df.columns))\n",
    "    \n",
    "    update_df = play_df.vstack(draw_df).filter(pl.col(\"player\") != \"Bye\").with_columns(\n",
    "        new_victory = pl.when(pl.col(\"new_points\") == 3).then(pl.lit(1)).otherwise(pl.lit(0))\n",
    "    )\n",
    "    \n",
    "    players_df = players_df.drop([\"gw\", \"omw\", \"ogw\"]).join(update_df, on = \"player\", how = \"left\").with_columns(\n",
    "        points = pl.col(\"points\") + pl.col(\"new_points\"),\n",
    "        match_wins = pl.col(\"match_wins\") + pl.col(\"new_victory\"),\n",
    "        game_wins = pl.col(\"game_wins\") + pl.col(\"new_wins\"),\n",
    "        total_matches = pl.col(\"total_matches\") + pl.lit(1),\n",
    "        total_games = pl.col(\"total_games\") + pl.col(\"new_games\"),\n",
    "        opponents = (pl.col(\"opponents\") + pl.lit(\"//\") + pl.col(\"new_opponent\")).str.replace(\"^//\", \"\")\n",
    "    ).select(pl.col(\"^[^n].*$\")).with_columns(\n",
    "        oppo_struct = pl.col(\"opponents\").str.split(\"//\").list.to_struct()\n",
    "    )\n",
    "    \n",
    "    player_opponent_df = players_df.unnest(\"oppo_struct\").select(pl.col(\"^field.*$\"), \"player\").melt(\n",
    "        id_vars = \"player\", value_vars = None, value_name = \"opponent\"\n",
    "    ).drop(\"variable\").join(\n",
    "        players_df.drop([\"points\", \"opponents\", \"oppo_struct\"]), left_on = \"opponent\", right_on = \"player\", how = \"inner\"\n",
    "    ).groupby(\"player\").sum().drop(\"opponent\").with_columns(\n",
    "        omw = 100*pl.col(\"match_wins\")/pl.col(\"total_matches\"),\n",
    "        ogw = 100*pl.col(\"game_wins\")/pl.col(\"total_games\")\n",
    "    ).select([\"player\", \"omw\", \"ogw\"])\n",
    "    \n",
    "    players_df = players_df.join(\n",
    "        player_opponent_df, on = \"player\", how = \"left\"\n",
    "    ).with_columns(\n",
    "        gw = 100*pl.col(\"game_wins\")/pl.col(\"total_games\")\n",
    "    ).sort([\"points\", \"omw\", \"gw\", \"ogw\"], descending = True).drop(\"oppo_struct\").with_columns(\n",
    "        dropped = pl.when(pl.col(\"player\").is_in(drop_list)).then(pl.lit(True)).otherwise(pl.lit(False))\n",
    "    )\n",
    "    \n",
    "    return players_df\n",
    "\n",
    "#players_df_2 = results(players_df_1, pairings_2, [\"2-1\", \"1-1\"], [\"Jeppe\", \"Asger\"])\n",
    "#players_df_2\n",
    "#results(players_df, pairings_1, [\"2-1\", \"1-1-1\"])\n",
    "#results(pairings_1)"
   ]
  },
  {
   "cell_type": "code",
   "execution_count": 8,
   "id": "96bb316f-abe9-4335-af10-ea35307ed581",
   "metadata": {
    "tags": []
   },
   "outputs": [
    {
     "data": {
      "text/html": [
       "<div><style>\n",
       ".dataframe > thead > tr > th,\n",
       ".dataframe > tbody > tr > td {\n",
       "  text-align: right;\n",
       "}\n",
       "</style>\n",
       "<small>shape: (1, 3)</small><table border=\"1\" class=\"dataframe\"><thead><tr><th>match</th><th>play</th><th>draw</th></tr><tr><td>i32</td><td>str</td><td>str</td></tr></thead><tbody><tr><td>0</td><td>&quot;Halfdan&quot;</td><td>&quot;Bye&quot;</td></tr></tbody></table></div>"
      ],
      "text/plain": [
       "shape: (1, 3)\n",
       "┌───────┬─────────┬──────┐\n",
       "│ match ┆ play    ┆ draw │\n",
       "│ ---   ┆ ---     ┆ ---  │\n",
       "│ i32   ┆ str     ┆ str  │\n",
       "╞═══════╪═════════╪══════╡\n",
       "│ 0     ┆ Halfdan ┆ Bye  │\n",
       "└───────┴─────────┴──────┘"
      ]
     },
     "execution_count": 8,
     "metadata": {},
     "output_type": "execute_result"
    }
   ],
   "source": [
    "players_df_1 = results(players_df, pairings_1, [\"2-1\", \"1-1-1\"])\n",
    "pairings_2 = pairings(players_df_1)\n",
    "pairings_2"
   ]
  },
  {
   "cell_type": "code",
   "execution_count": 500,
   "id": "c5e52bfb-7e12-47ab-ae26-f57c90ef9db9",
   "metadata": {},
   "outputs": [
    {
     "name": "stdout",
     "output_type": "stream",
     "text": [
      "shape: (3, 3)\n",
      "┌───────┬───────┬─────────┐\n",
      "│ match ┆ play  ┆ draw    │\n",
      "│ ---   ┆ ---   ┆ ---     │\n",
      "│ i32   ┆ str   ┆ str     │\n",
      "╞═══════╪═══════╪═════════╡\n",
      "│ 1     ┆ Esben ┆ Halfdan │\n",
      "│ 2     ┆ Bakke ┆ Jeppe   │\n",
      "│ 3     ┆ Bye   ┆ Asger   │\n",
      "└───────┴───────┴─────────┘\n",
      "shape: (3, 3)\n",
      "┌───────┬───────┬─────────┐\n",
      "│ match ┆ play  ┆ draw    │\n",
      "│ ---   ┆ ---   ┆ ---     │\n",
      "│ i32   ┆ str   ┆ str     │\n",
      "╞═══════╪═══════╪═════════╡\n",
      "│ 1     ┆ Asger ┆ Halfdan │\n",
      "│ 2     ┆ Esben ┆ Bakke   │\n",
      "│ 3     ┆ Jeppe ┆ Bye     │\n",
      "└───────┴───────┴─────────┘\n"
     ]
    }
   ],
   "source": [
    "print(pairings_1)\n",
    "print(pairings_2)"
   ]
  },
  {
   "cell_type": "code",
   "execution_count": 387,
   "id": "8f259209-e12d-48b8-8082-621a4815deab",
   "metadata": {},
   "outputs": [
    {
     "name": "stdout",
     "output_type": "stream",
     "text": [
      "WARNING: this cell uses XXXX limited resources:\n"
     ]
    },
    {
     "name": "stdin",
     "output_type": "stream",
     "text": [
      "-> Are you sure you want to run it? [yes| no]:  a\n"
     ]
    },
    {
     "name": "stdout",
     "output_type": "stream",
     "text": [
      "NO\n",
      "some other job\n"
     ]
    }
   ],
   "source": [
    "print('WARNING: this cell uses XXXX limited resources:')\n",
    "answer = input('-> Are you sure you want to run it? [yes| no]: ' )\n",
    "if answer == 'yes':\n",
    "    print(\"YES\")\n",
    "else:\n",
    "    print(\"NO\")\n",
    "print(\"some other job\")"
   ]
  }
 ],
 "metadata": {
  "kernelspec": {
   "display_name": "Python 3 (ipykernel)",
   "language": "python",
   "name": "python3"
  },
  "language_info": {
   "codemirror_mode": {
    "name": "ipython",
    "version": 3
   },
   "file_extension": ".py",
   "mimetype": "text/x-python",
   "name": "python",
   "nbconvert_exporter": "python",
   "pygments_lexer": "ipython3",
   "version": "3.11.3"
  }
 },
 "nbformat": 4,
 "nbformat_minor": 5
}
