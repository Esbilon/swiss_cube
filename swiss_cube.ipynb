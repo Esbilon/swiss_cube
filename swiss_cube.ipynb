{
 "cells": [
  {
   "cell_type": "code",
   "execution_count": 3,
   "id": "9a5edb87-e5a8-4020-8d98-6296e27b63ed",
   "metadata": {},
   "outputs": [
    {
     "name": "stdout",
     "output_type": "stream",
     "text": [
      "Requirement already satisfied: pip in c:\\users\\esben\\anaconda3\\lib\\site-packages (23.2)\n"
     ]
    },
    {
     "name": "stderr",
     "output_type": "stream",
     "text": [
      "DEPRECATION: pyodbc 4.0.0-unsupported has a non-standard version number. pip 23.3 will enforce this behaviour change. A possible replacement is to upgrade to a newer version of pyodbc or contact the author to suggest that they release a version with a conforming version number. Discussion can be found at https://github.com/pypa/pip/issues/12063\n"
     ]
    },
    {
     "name": "stdout",
     "output_type": "stream",
     "text": [
      "Requirement already satisfied: pyodbc in c:\\users\\esben\\anaconda3\\lib\\site-packages (4.0.0-unsupported)\n",
      "Collecting pyodbc\n",
      "  Downloading pyodbc-4.0.39-cp39-cp39-win_amd64.whl (69 kB)\n",
      "     ---------------------------------------- 69.8/69.8 kB 4.0 MB/s eta 0:00:00\n",
      "Installing collected packages: pyodbc\n",
      "  Attempting uninstall: pyodbc\n",
      "    Found existing installation: pyodbc 4.0.0-unsupported\n",
      "    Uninstalling pyodbc-4.0.0-unsupported:\n",
      "      Successfully uninstalled pyodbc-4.0.0-unsupported\n",
      "Successfully installed pyodbc-4.0.39\n",
      "Requirement already satisfied: polars in c:\\users\\esben\\anaconda3\\lib\\site-packages (0.18.7)\n"
     ]
    }
   ],
   "source": [
    "#Install pip packages in the curret Jupyter kernal\n",
    "import sys\n",
    "!{sys.executable} -m pip install --upgrade pip\n",
    "!{sys.executable} -m pip install --upgrade pyodbc\n",
    "!{sys.executable} -m pip install polars"
   ]
  },
  {
   "cell_type": "markdown",
   "id": "600518fa-196c-4cbd-861a-309ba31e1178",
   "metadata": {},
   "source": [
    "Notes on behavior:\n",
    "\n",
    "Byes do not count towards OMW and OGW one way or othe other.\n",
    "\n",
    "If a bye is assigned, it's first assigned among subjects with the fewest byes (usually zero) and second among subjects with the fewest points (should be updated to lowest overall ranking).\n",
    "\n",
    "I've calculated omw, gw, and ogw wrong. They're fractions of points, not fractions of wins. See https://media.wizards.com/2023/wpn/marketing_materials/wpn/mtg_mtr_2023may29_en.pdf\n",
    "\n"
   ]
  },
  {
   "cell_type": "code",
   "execution_count": 81,
   "id": "933a4cef-9b45-4f78-911c-4d83e2244369",
   "metadata": {},
   "outputs": [],
   "source": [
    "import random\n",
    "import polars as pl"
   ]
  },
  {
   "cell_type": "code",
   "execution_count": 668,
   "id": "53d956c3-9610-4f5a-882a-cbe1207b684a",
   "metadata": {},
   "outputs": [
    {
     "data": {
      "text/html": [
       "<div><style>\n",
       ".dataframe > thead > tr > th,\n",
       ".dataframe > tbody > tr > td {\n",
       "  text-align: right;\n",
       "}\n",
       "</style>\n",
       "<small>shape: (5, 11)</small><table border=\"1\" class=\"dataframe\"><thead><tr><th>player</th><th>points</th><th>match_wins</th><th>game_wins</th><th>total_matches</th><th>total_games</th><th>opponents</th><th>omw</th><th>gw</th><th>ogw</th><th>dropped</th></tr><tr><td>str</td><td>i64</td><td>i64</td><td>i64</td><td>i64</td><td>i64</td><td>str</td><td>f64</td><td>f64</td><td>f64</td><td>bool</td></tr></thead><tbody><tr><td>&quot;Esben&quot;</td><td>0</td><td>0</td><td>0</td><td>0</td><td>0</td><td>&quot;&quot;</td><td>0.0</td><td>0.0</td><td>0.0</td><td>false</td></tr><tr><td>&quot;Jeppe&quot;</td><td>0</td><td>0</td><td>0</td><td>0</td><td>0</td><td>&quot;&quot;</td><td>0.0</td><td>0.0</td><td>0.0</td><td>false</td></tr><tr><td>&quot;Halfdan&quot;</td><td>0</td><td>0</td><td>0</td><td>0</td><td>0</td><td>&quot;&quot;</td><td>0.0</td><td>0.0</td><td>0.0</td><td>false</td></tr><tr><td>&quot;Asger&quot;</td><td>0</td><td>0</td><td>0</td><td>0</td><td>0</td><td>&quot;&quot;</td><td>0.0</td><td>0.0</td><td>0.0</td><td>false</td></tr><tr><td>&quot;Bakke&quot;</td><td>0</td><td>0</td><td>0</td><td>0</td><td>0</td><td>&quot;&quot;</td><td>0.0</td><td>0.0</td><td>0.0</td><td>false</td></tr></tbody></table></div>"
      ],
      "text/plain": [
       "shape: (5, 11)\n",
       "┌─────────┬────────┬────────────┬───────────┬───┬─────┬─────┬─────┬─────────┐\n",
       "│ player  ┆ points ┆ match_wins ┆ game_wins ┆ … ┆ omw ┆ gw  ┆ ogw ┆ dropped │\n",
       "│ ---     ┆ ---    ┆ ---        ┆ ---       ┆   ┆ --- ┆ --- ┆ --- ┆ ---     │\n",
       "│ str     ┆ i64    ┆ i64        ┆ i64       ┆   ┆ f64 ┆ f64 ┆ f64 ┆ bool    │\n",
       "╞═════════╪════════╪════════════╪═══════════╪═══╪═════╪═════╪═════╪═════════╡\n",
       "│ Esben   ┆ 0      ┆ 0          ┆ 0         ┆ … ┆ 0.0 ┆ 0.0 ┆ 0.0 ┆ false   │\n",
       "│ Jeppe   ┆ 0      ┆ 0          ┆ 0         ┆ … ┆ 0.0 ┆ 0.0 ┆ 0.0 ┆ false   │\n",
       "│ Halfdan ┆ 0      ┆ 0          ┆ 0         ┆ … ┆ 0.0 ┆ 0.0 ┆ 0.0 ┆ false   │\n",
       "│ Asger   ┆ 0      ┆ 0          ┆ 0         ┆ … ┆ 0.0 ┆ 0.0 ┆ 0.0 ┆ false   │\n",
       "│ Bakke   ┆ 0      ┆ 0          ┆ 0         ┆ … ┆ 0.0 ┆ 0.0 ┆ 0.0 ┆ false   │\n",
       "└─────────┴────────┴────────────┴───────────┴───┴─────┴─────┴─────┴─────────┘"
      ]
     },
     "execution_count": 668,
     "metadata": {},
     "output_type": "execute_result"
    }
   ],
   "source": [
    "players = [\"Esben\",\n",
    "          \"Jeppe\",\n",
    "          \"Halfdan\",\n",
    "          \"Asger\",\n",
    "          \"Bakke\"]\n",
    "if (len(players) > len(set(players))):\n",
    "    raise ValueError('There are non-unique players.')\n",
    "elif (\"Bye\" in players):\n",
    "    raise ValueError('You have listed \"Bye\" as a player. Please don\\'t.')\n",
    "\n",
    "players_df = pl.DataFrame({\"player\": players, \"points\": 0, \"match_wins\": 0, \"game_wins\": 0, \"total_matches\": 0, \"total_games\": 0, \"opponents\": \"\", \"omw\": 0., \"gw\": 0., \"ogw\": 0., \"dropped\": False})\n",
    "players_df"
   ]
  },
  {
   "cell_type": "code",
   "execution_count": 696,
   "id": "376ad1df-a210-4fbe-b81e-f512bb83def9",
   "metadata": {},
   "outputs": [
    {
     "data": {
      "text/html": [
       "<div><style>\n",
       ".dataframe > thead > tr > th,\n",
       ".dataframe > tbody > tr > td {\n",
       "  text-align: right;\n",
       "}\n",
       "</style>\n",
       "<small>shape: (3, 3)</small><table border=\"1\" class=\"dataframe\"><thead><tr><th>match</th><th>play</th><th>draw</th></tr><tr><td>i32</td><td>str</td><td>str</td></tr></thead><tbody><tr><td>0</td><td>&quot;Jeppe&quot;</td><td>&quot;Bye&quot;</td></tr><tr><td>1</td><td>&quot;Halfdan&quot;</td><td>&quot;Esben&quot;</td></tr><tr><td>2</td><td>&quot;Bakke&quot;</td><td>&quot;Asger&quot;</td></tr></tbody></table></div>"
      ],
      "text/plain": [
       "shape: (3, 3)\n",
       "┌───────┬─────────┬───────┐\n",
       "│ match ┆ play    ┆ draw  │\n",
       "│ ---   ┆ ---     ┆ ---   │\n",
       "│ i32   ┆ str     ┆ str   │\n",
       "╞═══════╪═════════╪═══════╡\n",
       "│ 0     ┆ Jeppe   ┆ Bye   │\n",
       "│ 1     ┆ Halfdan ┆ Esben │\n",
       "│ 2     ┆ Bakke   ┆ Asger │\n",
       "└───────┴─────────┴───────┘"
      ]
     },
     "execution_count": 696,
     "metadata": {},
     "output_type": "execute_result"
    }
   ],
   "source": [
    "def pairings(pair_players):\n",
    "    \n",
    "    pair_players = pair_players.filter(pl.col(\"dropped\") == False)\n",
    "    \n",
    "    has_bye = len(pair_players) % 2 == 1\n",
    "    \n",
    "    if (has_bye):\n",
    "        bye_players = pair_players.with_columns(\n",
    "            bye_count = pl.col(\"opponents\").str.count_match(\"Bye\")\n",
    "        ).filter(\n",
    "            pl.col(\"bye_count\") == pl.col(\"bye_count\").min()\n",
    "        ).filter(\n",
    "            pl.col(\"points\") == pl.col(\"points\").min()\n",
    "        )\n",
    "        \n",
    "        bye_pair = bye_players.sample(1).select(\"player\").vstack(\n",
    "                pl.DataFrame({\"player\": \"Bye\"})\n",
    "            ).with_columns(\n",
    "                match = 0,\n",
    "                play_draw = pl.Series([\"play\", \"draw\"])\n",
    "            )\n",
    "        \n",
    "        pair_players0 = pair_players = pair_players.join(bye_pair, on = \"player\", how = \"anti\").with_columns(forbidden = pl.lit(\"\"))\n",
    "                \n",
    "    pairs_n = len(pair_players)/2\n",
    "    \n",
    "    pairs = pair_players.select(\"player\").with_columns(\n",
    "        match = 0,\n",
    "        play_draw = pl.lit(\"play\")\n",
    "    ).clear()\n",
    "    \n",
    "    n=0\n",
    "    while (len(pair_players) > 0):\n",
    "        n = n+1\n",
    "        \n",
    "        match_player_1 = pair_players.slice(0, 1)\n",
    "\n",
    "        unmatch_list = match_player_1.with_columns(\n",
    "            oppo_struct = pl.col(\"opponents\").str.split(\"//\").list.to_struct()\n",
    "        ).select(\"oppo_struct\").unnest(\"oppo_struct\").melt(\n",
    "            id_vars = None, value_vars = None, value_name = \"player\"\n",
    "        ).groupby(\"player\").agg(pl.count()).filter(\n",
    "            pl.col(\"count\") == pl.col(\"count\").max()\n",
    "        ).drop(\"count\")\n",
    "\n",
    "        match_player_2 = pair_players.select(\"player\").join(\n",
    "            unmatch_list, on = \"player\", how = \"anti\"\n",
    "        ).join(\n",
    "            match_player_1, on = \"player\", how = \"anti\"\n",
    "        ).slice(0, 1)\n",
    "       \n",
    "        pair = match_player_1.select(\"player\").vstack(match_player_2)\n",
    "        \n",
    "        if (len(pair) != 2):\n",
    "            pair_players = pair_players.clear()\n",
    "            pairs = pairs.clear()\n",
    "            continue\n",
    "        \n",
    "        pair_players = pair_players.join(pair, on = \"player\", how = \"anti\")\n",
    "        \n",
    "        pair = pair.with_columns(\n",
    "            match = n,\n",
    "            play_draw = pl.Series(random.sample([\"play\", \"draw\"], 2))\n",
    "        )\n",
    "        \n",
    "        pairs = pairs.vstack(pair)\n",
    "            \n",
    "    if (has_bye):\n",
    "        pairs = bye_pair.vstack(pairs)\n",
    "            \n",
    "    pairs = pairs.pivot(\n",
    "        values=\"player\", index=\"match\", columns=\"play_draw\", aggregate_function=\"first\"        \n",
    "    ).select([\"match\", \"play\", \"draw\"])\n",
    "    \n",
    "    return pairs\n",
    "\n",
    "pairings(players_df)"
   ]
  },
  {
   "cell_type": "code",
   "execution_count": 677,
   "id": "6c462c7a-4eb7-4d00-b35e-499d812a32e2",
   "metadata": {},
   "outputs": [
    {
     "data": {
      "text/html": [
       "<div><style>\n",
       ".dataframe > thead > tr > th,\n",
       ".dataframe > tbody > tr > td {\n",
       "  text-align: right;\n",
       "}\n",
       "</style>\n",
       "<small>shape: (5, 11)</small><table border=\"1\" class=\"dataframe\"><thead><tr><th>player</th><th>points</th><th>match_wins</th><th>game_wins</th><th>total_matches</th><th>total_games</th><th>opponents</th><th>dropped</th><th>omw</th><th>ogw</th><th>gw</th></tr><tr><td>str</td><td>i64</td><td>i64</td><td>i64</td><td>i64</td><td>i64</td><td>str</td><td>bool</td><td>f64</td><td>f64</td><td>f64</td></tr></thead><tbody><tr><td>&quot;Halfdan&quot;</td><td>3</td><td>1</td><td>2</td><td>1</td><td>2</td><td>&quot;Asger&quot;</td><td>false</td><td>0.0</td><td>0.0</td><td>100.0</td></tr><tr><td>&quot;Bakke&quot;</td><td>3</td><td>1</td><td>2</td><td>1</td><td>3</td><td>&quot;Bye&quot;</td><td>false</td><td>null</td><td>null</td><td>66.666667</td></tr><tr><td>&quot;Esben&quot;</td><td>1</td><td>0</td><td>1</td><td>1</td><td>3</td><td>&quot;Jeppe&quot;</td><td>false</td><td>0.0</td><td>33.333333</td><td>33.333333</td></tr><tr><td>&quot;Jeppe&quot;</td><td>1</td><td>0</td><td>1</td><td>1</td><td>3</td><td>&quot;Esben&quot;</td><td>false</td><td>0.0</td><td>33.333333</td><td>33.333333</td></tr><tr><td>&quot;Asger&quot;</td><td>0</td><td>0</td><td>0</td><td>1</td><td>2</td><td>&quot;Halfdan&quot;</td><td>false</td><td>100.0</td><td>100.0</td><td>0.0</td></tr></tbody></table></div>"
      ],
      "text/plain": [
       "shape: (5, 11)\n",
       "┌─────────┬────────┬────────────┬───────────┬───┬─────────┬───────┬───────────┬───────────┐\n",
       "│ player  ┆ points ┆ match_wins ┆ game_wins ┆ … ┆ dropped ┆ omw   ┆ ogw       ┆ gw        │\n",
       "│ ---     ┆ ---    ┆ ---        ┆ ---       ┆   ┆ ---     ┆ ---   ┆ ---       ┆ ---       │\n",
       "│ str     ┆ i64    ┆ i64        ┆ i64       ┆   ┆ bool    ┆ f64   ┆ f64       ┆ f64       │\n",
       "╞═════════╪════════╪════════════╪═══════════╪═══╪═════════╪═══════╪═══════════╪═══════════╡\n",
       "│ Halfdan ┆ 3      ┆ 1          ┆ 2         ┆ … ┆ false   ┆ 0.0   ┆ 0.0       ┆ 100.0     │\n",
       "│ Bakke   ┆ 3      ┆ 1          ┆ 2         ┆ … ┆ false   ┆ null  ┆ null      ┆ 66.666667 │\n",
       "│ Esben   ┆ 1      ┆ 0          ┆ 1         ┆ … ┆ false   ┆ 0.0   ┆ 33.333333 ┆ 33.333333 │\n",
       "│ Jeppe   ┆ 1      ┆ 0          ┆ 1         ┆ … ┆ false   ┆ 0.0   ┆ 33.333333 ┆ 33.333333 │\n",
       "│ Asger   ┆ 0      ┆ 0          ┆ 0         ┆ … ┆ false   ┆ 100.0 ┆ 100.0     ┆ 0.0       │\n",
       "└─────────┴────────┴────────────┴───────────┴───┴─────────┴───────┴───────────┴───────────┘"
      ]
     },
     "execution_count": 677,
     "metadata": {},
     "output_type": "execute_result"
    }
   ],
   "source": [
    "players_df_1"
   ]
  },
  {
   "cell_type": "code",
   "execution_count": 675,
   "id": "e66f454d-66f9-44ec-8167-7880265808f3",
   "metadata": {},
   "outputs": [
    {
     "data": {
      "text/html": [
       "<div><style>\n",
       ".dataframe > thead > tr > th,\n",
       ".dataframe > tbody > tr > td {\n",
       "  text-align: right;\n",
       "}\n",
       "</style>\n",
       "<small>shape: (3, 3)</small><table border=\"1\" class=\"dataframe\"><thead><tr><th>match</th><th>play</th><th>draw</th></tr><tr><td>i32</td><td>str</td><td>str</td></tr></thead><tbody><tr><td>0</td><td>&quot;Bakke&quot;</td><td>&quot;Bye&quot;</td></tr><tr><td>1</td><td>&quot;Esben&quot;</td><td>&quot;Jeppe&quot;</td></tr><tr><td>2</td><td>&quot;Halfdan&quot;</td><td>&quot;Asger&quot;</td></tr></tbody></table></div>"
      ],
      "text/plain": [
       "shape: (3, 3)\n",
       "┌───────┬─────────┬───────┐\n",
       "│ match ┆ play    ┆ draw  │\n",
       "│ ---   ┆ ---     ┆ ---   │\n",
       "│ i32   ┆ str     ┆ str   │\n",
       "╞═══════╪═════════╪═══════╡\n",
       "│ 0     ┆ Bakke   ┆ Bye   │\n",
       "│ 1     ┆ Esben   ┆ Jeppe │\n",
       "│ 2     ┆ Halfdan ┆ Asger │\n",
       "└───────┴─────────┴───────┘"
      ]
     },
     "execution_count": 675,
     "metadata": {},
     "output_type": "execute_result"
    }
   ],
   "source": [
    "pairings_1 = pairings(players_df)\n",
    "pairings_1"
   ]
  },
  {
   "cell_type": "code",
   "execution_count": 560,
   "id": "6cba1c66-e0b5-4647-8f57-785dd7c4264c",
   "metadata": {},
   "outputs": [
    {
     "data": {
      "text/html": [
       "<div><style>\n",
       ".dataframe > thead > tr > th,\n",
       ".dataframe > tbody > tr > td {\n",
       "  text-align: right;\n",
       "}\n",
       "</style>\n",
       "<small>shape: (5, 11)</small><table border=\"1\" class=\"dataframe\"><thead><tr><th>player</th><th>points</th><th>match_wins</th><th>game_wins</th><th>total_matches</th><th>total_games</th><th>opponents</th><th>dropped</th><th>omw</th><th>ogw</th><th>gw</th></tr><tr><td>str</td><td>i64</td><td>i64</td><td>i64</td><td>i64</td><td>i64</td><td>str</td><td>bool</td><td>f64</td><td>f64</td><td>f64</td></tr></thead><tbody><tr><td>&quot;Bakke&quot;</td><td>6</td><td>2</td><td>4</td><td>2</td><td>5</td><td>&quot;Bye//Jeppe&quot;</td><td>false</td><td>0.0</td><td>33.333333</td><td>80.0</td></tr><tr><td>&quot;Esben&quot;</td><td>4</td><td>1</td><td>3</td><td>2</td><td>5</td><td>&quot;Asger//Bye&quot;</td><td>false</td><td>0.0</td><td>40.0</td><td>60.0</td></tr><tr><td>&quot;Halfdan&quot;</td><td>4</td><td>1</td><td>3</td><td>2</td><td>5</td><td>&quot;Jeppe//Asger&quot;</td><td>false</td><td>0.0</td><td>36.363636</td><td>60.0</td></tr><tr><td>&quot;Asger&quot;</td><td>2</td><td>0</td><td>2</td><td>2</td><td>5</td><td>&quot;Esben//Halfdan…</td><td>true</td><td>50.0</td><td>60.0</td><td>40.0</td></tr><tr><td>&quot;Jeppe&quot;</td><td>0</td><td>0</td><td>2</td><td>2</td><td>6</td><td>&quot;Halfdan//Bakke…</td><td>true</td><td>75.0</td><td>70.0</td><td>33.333333</td></tr></tbody></table></div>"
      ],
      "text/plain": [
       "shape: (5, 11)\n",
       "┌─────────┬────────┬────────────┬───────────┬───┬─────────┬──────┬───────────┬───────────┐\n",
       "│ player  ┆ points ┆ match_wins ┆ game_wins ┆ … ┆ dropped ┆ omw  ┆ ogw       ┆ gw        │\n",
       "│ ---     ┆ ---    ┆ ---        ┆ ---       ┆   ┆ ---     ┆ ---  ┆ ---       ┆ ---       │\n",
       "│ str     ┆ i64    ┆ i64        ┆ i64       ┆   ┆ bool    ┆ f64  ┆ f64       ┆ f64       │\n",
       "╞═════════╪════════╪════════════╪═══════════╪═══╪═════════╪══════╪═══════════╪═══════════╡\n",
       "│ Bakke   ┆ 6      ┆ 2          ┆ 4         ┆ … ┆ false   ┆ 0.0  ┆ 33.333333 ┆ 80.0      │\n",
       "│ Esben   ┆ 4      ┆ 1          ┆ 3         ┆ … ┆ false   ┆ 0.0  ┆ 40.0      ┆ 60.0      │\n",
       "│ Halfdan ┆ 4      ┆ 1          ┆ 3         ┆ … ┆ false   ┆ 0.0  ┆ 36.363636 ┆ 60.0      │\n",
       "│ Asger   ┆ 2      ┆ 0          ┆ 2         ┆ … ┆ true    ┆ 50.0 ┆ 60.0      ┆ 40.0      │\n",
       "│ Jeppe   ┆ 0      ┆ 0          ┆ 2         ┆ … ┆ true    ┆ 75.0 ┆ 70.0      ┆ 33.333333 │\n",
       "└─────────┴────────┴────────────┴───────────┴───┴─────────┴──────┴───────────┴───────────┘"
      ]
     },
     "execution_count": 560,
     "metadata": {},
     "output_type": "execute_result"
    }
   ],
   "source": [
    "def results(players_df, pairings_df, result_list = None, drop_list = None):\n",
    "    \n",
    "    #TODO: Accept manual results\n",
    "    if (result_list is None):\n",
    "        result_list = input(\"How did it go? \")\n",
    "        \n",
    "    if (len(pairings_df.filter(pl.col(\"play\") == \"Bye\")) > 0):\n",
    "        result_list = result_list + [\"0-2\"]\n",
    "    elif (len(pairings_df.filter(pl.col(\"draw\") == \"Bye\")) > 0):\n",
    "        result_list = result_list + [\"2-0\"]\n",
    "    \n",
    "    result_df = pl.DataFrame({\"result\": result_list}).with_columns(\n",
    "        wins = pl.col(\"result\").str.split_exact(\"-\", 2)\n",
    "    ).unnest(\"wins\").rename(\n",
    "        {\"field_0\": \"play_wins\", \"field_1\": \"draw_wins\", \"field_2\": \"games_drawn\"}\n",
    "    ).with_columns(\n",
    "        play_wins = pl.col(\"play_wins\").cast(pl.Int32),\n",
    "        draw_wins = pl.col(\"draw_wins\").cast(pl.Int32),\n",
    "        games_drawn = pl.col(\"games_drawn\").cast(pl.Int32),\n",
    "        play_points = pl.when(pl.col(\"play_wins\") > pl.col(\"draw_wins\")).then(pl.lit(3))\\\n",
    "            .when(pl.col(\"play_wins\") == pl.col(\"draw_wins\")).then(pl.lit(1))\\\n",
    "            .otherwise(pl.lit(0)),\n",
    "        draw_points = pl.when(pl.col(\"draw_wins\") > pl.col(\"play_wins\")).then(pl.lit(3))\\\n",
    "            .when(pl.col(\"draw_wins\") == pl.col(\"play_wins\")).then(pl.lit(1))\\\n",
    "            .otherwise(pl.lit(0))\n",
    "    ).fill_null(0).with_columns(\n",
    "        total_games = pl.col(\"play_wins\") + pl.col(\"draw_wins\") + pl.col(\"games_drawn\")\n",
    "    )\n",
    "    \n",
    "    result_df = pairings_df.hstack(result_df)\n",
    "    \n",
    "    play_df = result_df.select(pl.col(\"^play_.*$\"), player = \"play\", new_opponent = \"draw\", new_games = \"total_games\")\n",
    "    draw_df = result_df.select(pl.col(\"^draw_.*$\"), player = \"draw\", new_opponent = \"play\", new_games = \"total_games\")\n",
    "\n",
    "    play_df.columns = list(map(lambda x: x.replace(\"play_\", \"new_\"), play_df.columns))\n",
    "    draw_df.columns = list(map(lambda x: x.replace(\"draw_\", \"new_\"), draw_df.columns))\n",
    "    \n",
    "    update_df = play_df.vstack(draw_df).filter(pl.col(\"player\") != \"Bye\").with_columns(\n",
    "        new_victory = pl.when(pl.col(\"new_points\") == 3).then(pl.lit(1)).otherwise(pl.lit(0))\n",
    "    )\n",
    "    \n",
    "    players_df = players_df.drop([\"gw\", \"omw\", \"ogw\"]).join(update_df, on = \"player\", how = \"left\").with_columns(\n",
    "        points = pl.col(\"points\") + pl.col(\"new_points\"),\n",
    "        match_wins = pl.col(\"match_wins\") + pl.col(\"new_victory\"),\n",
    "        game_wins = pl.col(\"game_wins\") + pl.col(\"new_wins\"),\n",
    "        total_matches = pl.col(\"total_matches\") + pl.lit(1),\n",
    "        total_games = pl.col(\"total_games\") + pl.col(\"new_games\"),\n",
    "        opponents = (pl.col(\"opponents\") + pl.lit(\"//\") + pl.col(\"new_opponent\")).str.replace(\"^//\", \"\")\n",
    "    ).select(pl.col(\"^[^n].*$\")).with_columns(\n",
    "        oppo_struct = pl.col(\"opponents\").str.split(\"//\").list.to_struct()\n",
    "    )\n",
    "    \n",
    "    player_opponent_df = players_df.unnest(\"oppo_struct\").select(pl.col(\"^field.*$\"), \"player\").melt(\n",
    "        id_vars = \"player\", value_vars = None, value_name = \"opponent\"\n",
    "    ).drop(\"variable\").join(\n",
    "        players_df.drop([\"points\", \"opponents\", \"oppo_struct\"]), left_on = \"opponent\", right_on = \"player\", how = \"inner\"\n",
    "    ).groupby(\"player\").sum().drop(\"opponent\").with_columns(\n",
    "        omw = 100*pl.col(\"match_wins\")/pl.col(\"total_matches\"),\n",
    "        ogw = 100*pl.col(\"game_wins\")/pl.col(\"total_games\")\n",
    "    ).select([\"player\", \"omw\", \"ogw\"])\n",
    "    \n",
    "    players_df = players_df.join(\n",
    "        player_opponent_df, on = \"player\", how = \"left\"\n",
    "    ).with_columns(\n",
    "        gw = 100*pl.col(\"game_wins\")/pl.col(\"total_games\")\n",
    "    ).sort([\"points\", \"omw\", \"gw\", \"ogw\"], descending = True).drop(\"oppo_struct\").with_columns(\n",
    "        dropped = pl.when(pl.col(\"player\").is_in(drop_list)).then(pl.lit(True)).otherwise(pl.lit(False))\n",
    "    )\n",
    "    \n",
    "    return players_df\n",
    "\n",
    "players_df_2 = results(players_df_1, pairings_2, [\"2-1\", \"1-1\"], [\"Jeppe\", \"Asger\"])\n",
    "players_df_2\n",
    "#results(players_df, pairings_1, [\"2-1\", \"1-1-1\"])\n",
    "#results(pairings_1)"
   ]
  },
  {
   "cell_type": "code",
   "execution_count": 672,
   "id": "ad482862-a4fb-4dd0-a0f7-3e09806bafb0",
   "metadata": {},
   "outputs": [
    {
     "data": {
      "text/html": [
       "<div><style>\n",
       ".dataframe > thead > tr > th,\n",
       ".dataframe > tbody > tr > td {\n",
       "  text-align: right;\n",
       "}\n",
       "</style>\n",
       "<small>shape: (5, 11)</small><table border=\"1\" class=\"dataframe\"><thead><tr><th>player</th><th>points</th><th>match_wins</th><th>game_wins</th><th>total_matches</th><th>total_games</th><th>opponents</th><th>dropped</th><th>omw</th><th>ogw</th><th>gw</th></tr><tr><td>str</td><td>i64</td><td>i64</td><td>i64</td><td>i64</td><td>i64</td><td>str</td><td>bool</td><td>f64</td><td>f64</td><td>f64</td></tr></thead><tbody><tr><td>&quot;Halfdan&quot;</td><td>3</td><td>1</td><td>2</td><td>1</td><td>2</td><td>&quot;Bakke&quot;</td><td>false</td><td>0.0</td><td>0.0</td><td>100.0</td></tr><tr><td>&quot;Asger&quot;</td><td>3</td><td>1</td><td>2</td><td>1</td><td>3</td><td>&quot;Bye&quot;</td><td>false</td><td>null</td><td>null</td><td>66.666667</td></tr><tr><td>&quot;Esben&quot;</td><td>1</td><td>0</td><td>1</td><td>1</td><td>3</td><td>&quot;Jeppe&quot;</td><td>false</td><td>0.0</td><td>33.333333</td><td>33.333333</td></tr><tr><td>&quot;Jeppe&quot;</td><td>1</td><td>0</td><td>1</td><td>1</td><td>3</td><td>&quot;Esben&quot;</td><td>false</td><td>0.0</td><td>33.333333</td><td>33.333333</td></tr><tr><td>&quot;Bakke&quot;</td><td>0</td><td>0</td><td>0</td><td>1</td><td>2</td><td>&quot;Halfdan&quot;</td><td>false</td><td>100.0</td><td>100.0</td><td>0.0</td></tr></tbody></table></div>"
      ],
      "text/plain": [
       "shape: (5, 11)\n",
       "┌─────────┬────────┬────────────┬───────────┬───┬─────────┬───────┬───────────┬───────────┐\n",
       "│ player  ┆ points ┆ match_wins ┆ game_wins ┆ … ┆ dropped ┆ omw   ┆ ogw       ┆ gw        │\n",
       "│ ---     ┆ ---    ┆ ---        ┆ ---       ┆   ┆ ---     ┆ ---   ┆ ---       ┆ ---       │\n",
       "│ str     ┆ i64    ┆ i64        ┆ i64       ┆   ┆ bool    ┆ f64   ┆ f64       ┆ f64       │\n",
       "╞═════════╪════════╪════════════╪═══════════╪═══╪═════════╪═══════╪═══════════╪═══════════╡\n",
       "│ Halfdan ┆ 3      ┆ 1          ┆ 2         ┆ … ┆ false   ┆ 0.0   ┆ 0.0       ┆ 100.0     │\n",
       "│ Asger   ┆ 3      ┆ 1          ┆ 2         ┆ … ┆ false   ┆ null  ┆ null      ┆ 66.666667 │\n",
       "│ Esben   ┆ 1      ┆ 0          ┆ 1         ┆ … ┆ false   ┆ 0.0   ┆ 33.333333 ┆ 33.333333 │\n",
       "│ Jeppe   ┆ 1      ┆ 0          ┆ 1         ┆ … ┆ false   ┆ 0.0   ┆ 33.333333 ┆ 33.333333 │\n",
       "│ Bakke   ┆ 0      ┆ 0          ┆ 0         ┆ … ┆ false   ┆ 100.0 ┆ 100.0     ┆ 0.0       │\n",
       "└─────────┴────────┴────────────┴───────────┴───┴─────────┴───────┴───────────┴───────────┘"
      ]
     },
     "execution_count": 672,
     "metadata": {},
     "output_type": "execute_result"
    }
   ],
   "source": [
    "players_df_1"
   ]
  },
  {
   "cell_type": "code",
   "execution_count": 676,
   "id": "96bb316f-abe9-4335-af10-ea35307ed581",
   "metadata": {},
   "outputs": [
    {
     "ename": "ShapeError",
     "evalue": "unable to add a column of length 2 to a dataframe of height 1",
     "output_type": "error",
     "traceback": [
      "\u001b[1;31m---------------------------------------------------------------------------\u001b[0m",
      "\u001b[1;31mShapeError\u001b[0m                                Traceback (most recent call last)",
      "\u001b[1;32m~\\AppData\\Local\\Temp/ipykernel_23948/1869456576.py\u001b[0m in \u001b[0;36m<module>\u001b[1;34m\u001b[0m\n\u001b[0;32m      1\u001b[0m \u001b[0mplayers_df_1\u001b[0m \u001b[1;33m=\u001b[0m \u001b[0mresults\u001b[0m\u001b[1;33m(\u001b[0m\u001b[0mplayers_df\u001b[0m\u001b[1;33m,\u001b[0m \u001b[0mpairings_1\u001b[0m\u001b[1;33m,\u001b[0m \u001b[1;33m[\u001b[0m\u001b[1;34m\"2-1\"\u001b[0m\u001b[1;33m,\u001b[0m \u001b[1;34m\"1-1-1\"\u001b[0m\u001b[1;33m]\u001b[0m\u001b[1;33m)\u001b[0m\u001b[1;33m\u001b[0m\u001b[1;33m\u001b[0m\u001b[0m\n\u001b[1;32m----> 2\u001b[1;33m \u001b[0mpairings_2\u001b[0m \u001b[1;33m=\u001b[0m \u001b[0mpairings\u001b[0m\u001b[1;33m(\u001b[0m\u001b[0mplayers_df_1\u001b[0m\u001b[1;33m)\u001b[0m\u001b[1;33m\u001b[0m\u001b[1;33m\u001b[0m\u001b[0m\n\u001b[0m\u001b[0;32m      3\u001b[0m \u001b[0mpairings_2\u001b[0m\u001b[1;33m\u001b[0m\u001b[1;33m\u001b[0m\u001b[0m\n",
      "\u001b[1;32m~\\AppData\\Local\\Temp/ipykernel_23948/227863181.py\u001b[0m in \u001b[0;36mpairings\u001b[1;34m(pair_players)\u001b[0m\n\u001b[0;32m     47\u001b[0m         \u001b[0mpair_players\u001b[0m \u001b[1;33m=\u001b[0m \u001b[0mpair_players\u001b[0m\u001b[1;33m.\u001b[0m\u001b[0mjoin\u001b[0m\u001b[1;33m(\u001b[0m\u001b[0mpair\u001b[0m\u001b[1;33m,\u001b[0m \u001b[0mon\u001b[0m \u001b[1;33m=\u001b[0m \u001b[1;34m\"player\"\u001b[0m\u001b[1;33m,\u001b[0m \u001b[0mhow\u001b[0m \u001b[1;33m=\u001b[0m \u001b[1;34m\"anti\"\u001b[0m\u001b[1;33m)\u001b[0m\u001b[1;33m\u001b[0m\u001b[1;33m\u001b[0m\u001b[0m\n\u001b[0;32m     48\u001b[0m \u001b[1;33m\u001b[0m\u001b[0m\n\u001b[1;32m---> 49\u001b[1;33m         pair = pair.with_columns(\n\u001b[0m\u001b[0;32m     50\u001b[0m             \u001b[0mmatch\u001b[0m \u001b[1;33m=\u001b[0m \u001b[0mn\u001b[0m\u001b[1;33m,\u001b[0m\u001b[1;33m\u001b[0m\u001b[1;33m\u001b[0m\u001b[0m\n\u001b[0;32m     51\u001b[0m             \u001b[0mplay_draw\u001b[0m \u001b[1;33m=\u001b[0m \u001b[0mpl\u001b[0m\u001b[1;33m.\u001b[0m\u001b[0mSeries\u001b[0m\u001b[1;33m(\u001b[0m\u001b[0mrandom\u001b[0m\u001b[1;33m.\u001b[0m\u001b[0msample\u001b[0m\u001b[1;33m(\u001b[0m\u001b[1;33m[\u001b[0m\u001b[1;34m\"play\"\u001b[0m\u001b[1;33m,\u001b[0m \u001b[1;34m\"draw\"\u001b[0m\u001b[1;33m]\u001b[0m\u001b[1;33m,\u001b[0m \u001b[1;36m2\u001b[0m\u001b[1;33m)\u001b[0m\u001b[1;33m)\u001b[0m\u001b[1;33m\u001b[0m\u001b[1;33m\u001b[0m\u001b[0m\n",
      "\u001b[1;32m~\\anaconda3\\lib\\site-packages\\polars\\dataframe\\frame.py\u001b[0m in \u001b[0;36mwith_columns\u001b[1;34m(self, *exprs, **named_exprs)\u001b[0m\n\u001b[0;32m   7331\u001b[0m         \"\"\"\n\u001b[0;32m   7332\u001b[0m         return (\n\u001b[1;32m-> 7333\u001b[1;33m             \u001b[0mself\u001b[0m\u001b[1;33m.\u001b[0m\u001b[0mlazy\u001b[0m\u001b[1;33m(\u001b[0m\u001b[1;33m)\u001b[0m\u001b[1;33m\u001b[0m\u001b[1;33m\u001b[0m\u001b[0m\n\u001b[0m\u001b[0;32m   7334\u001b[0m             \u001b[1;33m.\u001b[0m\u001b[0mwith_columns\u001b[0m\u001b[1;33m(\u001b[0m\u001b[1;33m*\u001b[0m\u001b[0mexprs\u001b[0m\u001b[1;33m,\u001b[0m \u001b[1;33m**\u001b[0m\u001b[0mnamed_exprs\u001b[0m\u001b[1;33m)\u001b[0m\u001b[1;33m\u001b[0m\u001b[1;33m\u001b[0m\u001b[0m\n\u001b[0;32m   7335\u001b[0m             \u001b[1;33m.\u001b[0m\u001b[0mcollect\u001b[0m\u001b[1;33m(\u001b[0m\u001b[0mno_optimization\u001b[0m\u001b[1;33m=\u001b[0m\u001b[1;32mTrue\u001b[0m\u001b[1;33m)\u001b[0m\u001b[1;33m\u001b[0m\u001b[1;33m\u001b[0m\u001b[0m\n",
      "\u001b[1;32m~\\anaconda3\\lib\\site-packages\\polars\\lazyframe\\frame.py\u001b[0m in \u001b[0;36mcollect\u001b[1;34m(self, type_coercion, predicate_pushdown, projection_pushdown, simplify_expression, no_optimization, slice_pushdown, common_subplan_elimination, streaming)\u001b[0m\n\u001b[0;32m   1529\u001b[0m             \u001b[0mstreaming\u001b[0m\u001b[1;33m,\u001b[0m\u001b[1;33m\u001b[0m\u001b[1;33m\u001b[0m\u001b[0m\n\u001b[0;32m   1530\u001b[0m         )\n\u001b[1;32m-> 1531\u001b[1;33m         \u001b[1;32mreturn\u001b[0m \u001b[0mwrap_df\u001b[0m\u001b[1;33m(\u001b[0m\u001b[0mldf\u001b[0m\u001b[1;33m.\u001b[0m\u001b[0mcollect\u001b[0m\u001b[1;33m(\u001b[0m\u001b[1;33m)\u001b[0m\u001b[1;33m)\u001b[0m\u001b[1;33m\u001b[0m\u001b[1;33m\u001b[0m\u001b[0m\n\u001b[0m\u001b[0;32m   1532\u001b[0m \u001b[1;33m\u001b[0m\u001b[0m\n\u001b[0;32m   1533\u001b[0m     def sink_parquet(\n",
      "\u001b[1;31mShapeError\u001b[0m: unable to add a column of length 2 to a dataframe of height 1"
     ]
    }
   ],
   "source": [
    "players_df_1 = results(players_df, pairings_1, [\"2-1\", \"1-1-1\"])\n",
    "pairings_2 = pairings(players_df_1)\n",
    "pairings_2"
   ]
  },
  {
   "cell_type": "code",
   "execution_count": 500,
   "id": "c5e52bfb-7e12-47ab-ae26-f57c90ef9db9",
   "metadata": {},
   "outputs": [
    {
     "name": "stdout",
     "output_type": "stream",
     "text": [
      "shape: (3, 3)\n",
      "┌───────┬───────┬─────────┐\n",
      "│ match ┆ play  ┆ draw    │\n",
      "│ ---   ┆ ---   ┆ ---     │\n",
      "│ i32   ┆ str   ┆ str     │\n",
      "╞═══════╪═══════╪═════════╡\n",
      "│ 1     ┆ Esben ┆ Halfdan │\n",
      "│ 2     ┆ Bakke ┆ Jeppe   │\n",
      "│ 3     ┆ Bye   ┆ Asger   │\n",
      "└───────┴───────┴─────────┘\n",
      "shape: (3, 3)\n",
      "┌───────┬───────┬─────────┐\n",
      "│ match ┆ play  ┆ draw    │\n",
      "│ ---   ┆ ---   ┆ ---     │\n",
      "│ i32   ┆ str   ┆ str     │\n",
      "╞═══════╪═══════╪═════════╡\n",
      "│ 1     ┆ Asger ┆ Halfdan │\n",
      "│ 2     ┆ Esben ┆ Bakke   │\n",
      "│ 3     ┆ Jeppe ┆ Bye     │\n",
      "└───────┴───────┴─────────┘\n"
     ]
    }
   ],
   "source": [
    "print(pairings_1)\n",
    "print(pairings_2)"
   ]
  },
  {
   "cell_type": "code",
   "execution_count": 387,
   "id": "8f259209-e12d-48b8-8082-621a4815deab",
   "metadata": {},
   "outputs": [
    {
     "name": "stdout",
     "output_type": "stream",
     "text": [
      "WARNING: this cell uses XXXX limited resources:\n"
     ]
    },
    {
     "name": "stdin",
     "output_type": "stream",
     "text": [
      "-> Are you sure you want to run it? [yes| no]:  a\n"
     ]
    },
    {
     "name": "stdout",
     "output_type": "stream",
     "text": [
      "NO\n",
      "some other job\n"
     ]
    }
   ],
   "source": [
    "print('WARNING: this cell uses XXXX limited resources:')\n",
    "answer = input('-> Are you sure you want to run it? [yes| no]: ' )\n",
    "if answer == 'yes':\n",
    "    print(\"YES\")\n",
    "else:\n",
    "    print(\"NO\")\n",
    "print(\"some other job\")"
   ]
  }
 ],
 "metadata": {
  "kernelspec": {
   "display_name": "Python 3 (ipykernel)",
   "language": "python",
   "name": "python3"
  },
  "language_info": {
   "codemirror_mode": {
    "name": "ipython",
    "version": 3
   },
   "file_extension": ".py",
   "mimetype": "text/x-python",
   "name": "python",
   "nbconvert_exporter": "python",
   "pygments_lexer": "ipython3",
   "version": "3.9.7"
  }
 },
 "nbformat": 4,
 "nbformat_minor": 5
}
